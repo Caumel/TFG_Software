{
  "nbformat": 4,
  "nbformat_minor": 0,
  "metadata": {
    "colab": {
      "name": "TFG Software.ipynb",
      "version": "0.3.2",
      "provenance": [],
      "collapsed_sections": [
        "Q9gjsvw88430",
        "vDF1KvPet_Gy"
      ],
      "include_colab_link": true
    },
    "kernelspec": {
      "name": "python3",
      "display_name": "Python 3"
    },
    "accelerator": "TPU"
  },
  "cells": [
    {
      "cell_type": "markdown",
      "metadata": {
        "id": "view-in-github",
        "colab_type": "text"
      },
      "source": [
        "<a href=\"https://colab.research.google.com/github/Caumel/TFG_Software/blob/master/TFG_Software.ipynb\" target=\"_parent\"><img src=\"https://colab.research.google.com/assets/colab-badge.svg\" alt=\"Open In Colab\"/></a>"
      ]
    },
    {
      "metadata": {
        "id": "yzuyLp4HCUkX",
        "colab_type": "text"
      },
      "cell_type": "markdown",
      "source": [
        "# **Redes neuronales siamesas**"
      ]
    },
    {
      "metadata": {
        "id": "v8qNmHTqCUy2",
        "colab_type": "text"
      },
      "cell_type": "markdown",
      "source": [
        "## **Preparacion codigo**"
      ]
    },
    {
      "metadata": {
        "id": "V1CDM5EPB4lU",
        "colab_type": "text"
      },
      "cell_type": "markdown",
      "source": [
        "### **Importando modulos necesarios**"
      ]
    },
    {
      "metadata": {
        "id": "5UhweCKcBoOo",
        "colab_type": "code",
        "outputId": "944cd4bb-c8af-47b9-aeb4-b24f41019cf9",
        "colab": {
          "base_uri": "https://localhost:8080/",
          "height": 34
        }
      },
      "cell_type": "code",
      "source": [
        "import tensorflow as tf\n",
        "import random\n",
        "from random import shuffle\n",
        "import numpy as np\n",
        "import pandas as pd\n",
        "import matplotlib.pyplot as plt\n",
        "import os\n",
        "import itertools\n",
        "from PIL import Image as img\n",
        "import cv2\n",
        "from keras.optimizers import Adam\n",
        "\n",
        "from __future__ import absolute_import,division,print_function\n",
        "\n",
        "from keras.preprocessing.image import img_to_array\n",
        "from keras.preprocessing.image import ImageDataGenerator,array_to_img, img_to_array, load_img\n",
        "from keras.models import Sequential, Model, load_model\n",
        "from keras.layers import Dense, Dropout, Input, Lambda, Flatten, Activation\n",
        "from keras.optimizers import SGD, RMSprop\n",
        "from keras import backend as K\n",
        "from keras.layers.normalization import BatchNormalization\n",
        "from keras.layers.convolutional import Conv2D\n",
        "from keras.layers.convolutional import MaxPooling2D\n",
        "from keras import backend as K\n",
        "from keras.layers.core import Activation, Dense, Dropout, Flatten, Lambda\n",
        "from keras.preprocessing import image\n",
        "\n",
        "from sklearn.metrics import accuracy_score, confusion_matrix\n",
        "from sklearn.metrics import accuracy_score as accuracy\n"
      ],
      "execution_count": 0,
      "outputs": [
        {
          "output_type": "stream",
          "text": [
            "Using TensorFlow backend.\n"
          ],
          "name": "stderr"
        }
      ]
    },
    {
      "metadata": {
        "id": "EYEWUpcrG3Vv",
        "colab_type": "text"
      },
      "cell_type": "markdown",
      "source": [
        "### **Funcion para calcular la distantica L1 punto a punto entre dos vectores y triplet loss**"
      ]
    },
    {
      "metadata": {
        "id": "aH1ZRvQPDtCc",
        "colab_type": "code",
        "colab": {}
      },
      "cell_type": "code",
      "source": [
        "                        \n",
        "def abs_diff_output_shape(input_shapes):\n",
        "  shape1, shape2, shape3= input_shapes\n",
        "  return shape1\n",
        "  #shape1 = input_shapes[0]\n",
        "  #shape2 = input_shapes[1]\n",
        "  #assert shape1 == shape2  # else hadamard product isn't possible\n",
        "  #return [shape1, shape2]\n",
        "\n",
        "\n",
        "def distance_vec(y_pred): #Cosine distance\n",
        "  x = y_pred[0]\n",
        "  y = y_pred[1]\n",
        "  z = y_pred[2]\n",
        "  negative = K.prod(K.stack([x, y], axis=1), axis=1)\n",
        "  return negative\n",
        "  \n",
        "  \n",
        "  anchor = y_pred[0]\n",
        "  positive = y_pred[1]\n",
        "  negative = y_pred[2]\n",
        "\n",
        "  #positive_distance = K.abs(anchor-positive) #En principio mean y sum hacen lo mismo excepto que una hace media y otro suma\n",
        "  #negative_distance = K.abs(anchor-negative)\n",
        "  #return [positive_distance, negative_distance]\n",
        "  #return positive_distance - negative_distance\n",
        "\n",
        "def get_abs_diff(y_pred):\n",
        "    # L1 distance between two vectors\n",
        "    x = y_pred[0]\n",
        "    y = y_pred[1]\n",
        "    z = y_pred[2]\n",
        "    return K.abs(x - y)\n",
        "\n",
        "\n",
        "def triple_loss(y_true, y_pred):   # y_pred contiene la imagen ancla, positiva y negativa\n",
        "  alpha = 0.1\n",
        "  \n",
        "  anchor = y_pred[0]\n",
        "  positive = y_pred[1]\n",
        "  negative = y_pred[2]\n",
        "    \n",
        "  positive_distance = K.mean(K.square(anchor-positive),axis=-1)  #En principio mean y sum hacen lo mismo excepto que una hace media y otro suma\n",
        "  negative_distance = K.mean(K.square(anchor-negative),axis=-1)\n",
        "  \n",
        "  loss = positive_distance - negative_distance\n",
        "  return K.maximum(loss + alpha, 0)   "
      ],
      "execution_count": 0,
      "outputs": []
    },
    {
      "metadata": {
        "id": "HksRdHOBGsiX",
        "colab_type": "text"
      },
      "cell_type": "markdown",
      "source": [
        "### **Funcion para crear tripletas y cargar las imagenes**\n",
        "\n"
      ]
    },
    {
      "metadata": {
        "id": "jlov2ltiHFGo",
        "colab_type": "code",
        "colab": {}
      },
      "cell_type": "code",
      "source": [
        "def get_random_image(img_groups, group_names, gid):\n",
        "    gname = group_names[gid]\n",
        "    photos = img_groups[gname]\n",
        "    pid = np.random.choice(np.arange(len(photos)), size=1)[0]\n",
        "    pname = photos[pid]\n",
        "    return gname + pname + \".jpg\"\n",
        "   \n",
        "def create_triplet(number_images): # Crea tripleta\n",
        "  img_groups = {}\n",
        "  for folder in  os.listdir('/content/drive/My Drive/TFG software/dataset'):\n",
        "    i = 0 \n",
        "    for img_file in os.listdir('/content/drive/My Drive/TFG software/dataset/' + folder):\n",
        "      if i == number_images: # Para solo coger 40 fotos\n",
        "        break\n",
        "      prefix, suffix = img_file.split(\".\")\n",
        "      pid = prefix[3:]\n",
        "      if folder in img_groups:\n",
        "          img_groups[folder].append(pid)\n",
        "      else:\n",
        "          img_groups[folder] = [pid]\n",
        "      i += 1\n",
        "  pos_triples, neg_triples, labels = [], [], []\n",
        "  # positive pairs and negative \n",
        "  group_names = list(img_groups.keys())\n",
        "  for key in img_groups.keys():\n",
        "    for i in range(0,number_images):\n",
        "      for j in range(i+1,number_images): # Si dejo i me cogeria duplas con elementos iguales osea (001,001)\n",
        "        inc = random.randrange(1, classes+1)\n",
        "        dn = (int(key) + inc) % classes\n",
        "        right = get_random_image(img_groups, group_names, dn)\n",
        "        pos_triples.append((key + img_groups[key][i] + \".jpg\", key + img_groups[key][j] + \".jpg\", right))\n",
        "  return pos_triples  \n",
        "\n",
        "def load_image(image_name):\n",
        "    #if not image_name in image_cache:\n",
        "        ##image = plt.imread(os.path.join('/content/drive/My Drive/TFG software/dataset/' + image_name[0:3] , image_name))\n",
        "        #imagen = image.load_img('/content/drive/My Drive/TFG software/dataset/' + image_name[0:3] + '/' + image_name, target_size=(256, 256,3))\n",
        "        ##draw_image(132, image,image_name)\n",
        "        ##plt.tight_layout()\n",
        "        ##plt.show()\n",
        "        ##imagen = img.open('/content/drive/My Drive/TFG software/dataset/' + image_name[0:3] + '/' + image_name)\n",
        "        #imagen.thumbnail(input_dim, img.ANTIALIAS)\n",
        "        #imagen = np.divide(imagen, 256)\n",
        "        ##imagen = plt.imshow(img/255.)\n",
        "        #image_cache[image_name] = imagen   \n",
        "    #return image_cache[image_name]\n",
        "  image = cv2.imread('/content/drive/My Drive/TFG software/dataset/' + image_name[0:3] + '/' + image_name)\n",
        "  image = cv2.resize(image, (96, 96))\n",
        "  image = img_to_array(image)\n",
        "  return image    \n",
        "           \n",
        "def triples_batch(image_triples):#, batch_size): #Tripletas\n",
        "  images = []\n",
        "  for i in image_triples:\n",
        "      ahs, phs, nhs= i\n",
        "      images.append((load_image(ahs),load_image(phs),load_image(nhs)))\n",
        "  data = np.array(images, dtype=\"float\") / 255.0\n",
        "  return data\n",
        "  #return np.array(images)"
      ],
      "execution_count": 0,
      "outputs": []
    },
    {
      "metadata": {
        "id": "Q9gjsvw88430",
        "colab_type": "text"
      },
      "cell_type": "markdown",
      "source": [
        "### Metodo para crear pares positivos y negativos"
      ]
    },
    {
      "metadata": {
        "id": "CBv-qiRe9GBU",
        "colab_type": "code",
        "colab": {}
      },
      "cell_type": "code",
      "source": [
        "def draw_image(subplot, image, title):\n",
        "    plt.subplot(subplot)\n",
        "    plt.imshow(image)\n",
        "    plt.title(title)\n",
        "    plt.xticks([])\n",
        "    plt.yticks([])\n",
        "    \n",
        "def printimg(triples_data, labels):\n",
        "  for i in triples_data:\n",
        "    print(i)\n",
        "    gid1 = i[0][0:3]\n",
        "    gid2 = i[1][0:3]\n",
        "    ref_image = plt.imread(os.path.join('/content/drive/My Drive/TFG software/dataset/' + gid1 , i[0]))\n",
        "    sim_image = plt.imread(os.path.join('/content/drive/My Drive/TFG software/dataset/' + gid2 , i[1]))\n",
        "    if labels[triples_data.index(i)] == 1:\n",
        "      draw_image(131, ref_image, \"similar\")\n",
        "      draw_image(132, sim_image, \"similar\")\n",
        "      plt.tight_layout()\n",
        "      plt.show()\n",
        "    else:\n",
        "      draw_image(131, ref_image, \"different\")\n",
        "      draw_image(132, sim_image, \"different\")\n",
        "      plt.tight_layout()\n",
        "      plt.show() \n",
        "\n",
        "def get_random_image(img_groups, group_names, gid):\n",
        "    gname = group_names[gid]\n",
        "    photos = img_groups[gname]\n",
        "    pid = np.random.choice(np.arange(len(photos)), size=1)[0]\n",
        "    pname = photos[pid]\n",
        "    return gname + pname + \".jpg\"\n",
        "   \n",
        "def create_pairs(): # Crea par positivo y par negativo\n",
        "  img_groups = {}\n",
        "  for folder in  os.listdir('/content/drive/My Drive/TFG software/dataset'):\n",
        "    i = 0 \n",
        "    for img_file in os.listdir('/content/drive/My Drive/TFG software/dataset/' + folder):\n",
        "      if i == number_images: # Para solo coger 40 fotos\n",
        "        break\n",
        "      prefix, suffix = img_file.split(\".\")\n",
        "      pid = prefix[3:]\n",
        "      if folder in img_groups:\n",
        "          img_groups[folder].append(pid)\n",
        "      else:\n",
        "          img_groups[folder] = [pid]\n",
        "      i += 1\n",
        "  pos_triples, neg_triples, labels = [], [], []\n",
        "  # positive pairs and negative \n",
        "  group_names = list(img_groups.keys())\n",
        "  for key in img_groups.keys():\n",
        "    for i in range(0,number_images):\n",
        "      for j in range(i+1,number_images): # Si dejo i me cogeria duplas con elementos iguales osea (001,001)\n",
        "        pos_triples.append((key + img_groups[key][i] + \".jpg\", key + img_groups[key][j] + \".jpg\"))\n",
        "        inc = random.randrange(1, classes+1)\n",
        "        dn = (int(key) + inc) % classes\n",
        "        right = get_random_image(img_groups, group_names, dn)\n",
        "        pos_triples.append((key + img_groups[key][i] + \".jpg\", right))\n",
        "        labels += [1, 0]\n",
        "  return pos_triples, labels  \n",
        "    #for key in img_groups.keys():   # Esta parte de aqui te pone una tripleta con el ultimo elemento 1 o 0 si es pos o neg y los negativos te hace un random que no se si se repetirian los ejemplos\n",
        "        #triples = [(key + x[0] + \".jpg\", key + x[1] + \".jpg\", 1) for x in itertools.combinations(img_groups[key], 2)]\n",
        "        #pos_triples.extend(triples)    \n",
        "    #need equal number of negative examples\n",
        "  #group_names = list(img_groups.keys())\n",
        "  #for i in range(len(pos_triples)):\n",
        "      #g1, g2 = np.random.choice(np.arange(len(group_names)), size=2, replace=False)\n",
        "      #left = get_random_image(img_groups, group_names, g1)\n",
        "      #right = get_random_image(img_groups, group_names, g2)\n",
        "      #neg_triples.append((left, right, 0))\n",
        "  #pos_triples.extend(neg_triples)\n",
        "  #shuffle(pos_triples)\n",
        "  #return pos_triples\n",
        "\n",
        "\n",
        "def load_image(image_name):\n",
        "    #if not image_name in image_cache:\n",
        "        ##image = plt.imread(os.path.join('/content/drive/My Drive/TFG software/dataset/' + image_name[0:3] , image_name))\n",
        "        #imagen = image.load_img('/content/drive/My Drive/TFG software/dataset/' + image_name[0:3] + '/' + image_name, target_size=(256, 256,3))\n",
        "        ##draw_image(132, image,image_name)\n",
        "        ##plt.tight_layout()\n",
        "        ##plt.show()\n",
        "        ##imagen = img.open('/content/drive/My Drive/TFG software/dataset/' + image_name[0:3] + '/' + image_name)\n",
        "        #imagen.thumbnail(input_dim, img.ANTIALIAS)\n",
        "        #imagen = np.divide(imagen, 256)\n",
        "        ##imagen = plt.imshow(img/255.)\n",
        "        #image_cache[image_name] = imagen   \n",
        "    #return image_cache[image_name]\n",
        "\n",
        "  image = cv2.imread('/content/drive/My Drive/TFG software/dataset/' + image_name[0:3] + '/' + image_name)\n",
        "  image = cv2.resize(image, (96, 96))\n",
        "  image = img_to_array(image)\n",
        "  return image    \n",
        "           \n",
        "def dobles_batch(image_triples, batch_size, labels): #Duplas\n",
        "  indices = np.arange(len(image_triples))\n",
        "  shuffled_triples = [image_triples[ix] for ix in indices]\n",
        "  num_batches = len(shuffled_triples) // batch_size\n",
        "  for bid in range(num_batches):\n",
        "    images = []\n",
        "    batch = shuffled_triples[bid * batch_size : (bid + 1) * batch_size]\n",
        "    for i in range(batch_size):\n",
        "      lhs, rhs= batch[i]\n",
        "      images.append((load_image(lhs),load_image(rhs)))\n",
        "  return np.array(images), np.array(labels)"
      ],
      "execution_count": 0,
      "outputs": []
    },
    {
      "metadata": {
        "id": "aniGPta3HVE7",
        "colab_type": "text"
      },
      "cell_type": "markdown",
      "source": [
        "### **Crear red neuronal Convolucional**\n"
      ]
    },
    {
      "metadata": {
        "id": "KlIPAdDyHRcz",
        "colab_type": "code",
        "colab": {}
      },
      "cell_type": "code",
      "source": [
        "def create_base_network(input_dim, classes): # SmallerVGGnet\n",
        "  red = Sequential() \n",
        "  red.add(Conv2D(32, (3, 3), padding=\"same\",input_shape=input_dim))\n",
        "  red.add(Activation(\"relu\"))\n",
        "  red.add(BatchNormalization(axis=-1))\n",
        "  red.add(MaxPooling2D(pool_size=(3, 3)))\n",
        "  red.add(Dropout(0.25))\n",
        "  \n",
        "  # (CONV => RELU) * 2 => POOL\n",
        "  red.add(Conv2D(64, (3, 3), padding=\"same\"))\n",
        "  red.add(Activation(\"relu\"))\n",
        "  red.add(BatchNormalization(axis=-1))\n",
        "  red.add(Conv2D(64, (3, 3), padding=\"same\"))\n",
        "  red.add(Activation(\"relu\"))\n",
        "  red.add(BatchNormalization(axis=-1))\n",
        "  red.add(MaxPooling2D(pool_size=(2, 2)))\n",
        "  red.add(Dropout(0.25))\n",
        "  \n",
        "  # (CONV => RELU) * 2 => POOL\n",
        "  red.add(Conv2D(128, (3, 3), padding=\"same\"))\n",
        "  red.add(Activation(\"relu\"))\n",
        "  red.add(BatchNormalization(axis=-1))\n",
        "  red.add(Conv2D(128, (3, 3), padding=\"same\"))\n",
        "  red.add(Activation(\"relu\"))\n",
        "  red.add(BatchNormalization(axis=-1))\n",
        "  red.add(MaxPooling2D(pool_size=(2, 2)))\n",
        "  red.add(Dropout(0.25))\n",
        "  \n",
        "\t# first (and only) set of FC => RELU layers\n",
        "  red.add(Flatten())\n",
        "  red.add(Dense(1024))\n",
        "  red.add(Activation(\"relu\"))\n",
        "  red.add(BatchNormalization())\n",
        "  red.add(Dropout(0.5))\n",
        "  return red "
      ],
      "execution_count": 0,
      "outputs": []
    },
    {
      "metadata": {
        "id": "tVpDskYQqno1",
        "colab_type": "text"
      },
      "cell_type": "markdown",
      "source": [
        "## **Principal**"
      ]
    },
    {
      "metadata": {
        "id": "0EePEpaNqw4a",
        "colab_type": "text"
      },
      "cell_type": "markdown",
      "source": [
        "### **Inicializar datos y normalizarlos**"
      ]
    },
    {
      "metadata": {
        "id": "DbZ40Cjvp5HQ",
        "colab_type": "code",
        "outputId": "ae4cc33e-7155-40a9-d5e8-6b8abc80d469",
        "colab": {
          "base_uri": "https://localhost:8080/",
          "height": 34
        }
      },
      "cell_type": "code",
      "source": [
        "number_images = 5 # Numero de imagenes cogidas\n",
        "classes = 151 # Numero de pokemones\n",
        "batch = 32\n",
        "nb_epoch = 10\n",
        "\n",
        "input_dim = (96,96,3) # Son el ancho el alto y la profundidad de la imagen, 3 al ser en color es la variable input_dim pero todavia no esta tocada\n",
        "\n",
        "from google.colab import drive\n",
        "drive.mount('/content/drive')"
      ],
      "execution_count": 0,
      "outputs": [
        {
          "output_type": "stream",
          "text": [
            "Drive already mounted at /content/drive; to attempt to forcibly remount, call drive.mount(\"/content/drive\", force_remount=True).\n"
          ],
          "name": "stdout"
        }
      ]
    },
    {
      "metadata": {
        "id": "vDF1KvPet_Gy",
        "colab_type": "text"
      },
      "cell_type": "markdown",
      "source": [
        "### Crear varias imagenes apartir de una moviendola o rotandola"
      ]
    },
    {
      "metadata": {
        "id": "FXrC8WJ_kmdZ",
        "colab_type": "code",
        "colab": {}
      },
      "cell_type": "code",
      "source": [
        "train_datagen = ImageDataGenerator(\n",
        "        rescale=1./255,\n",
        "        shear_range=0.2,\n",
        "        horizontal_flip=True)\n",
        "\n",
        "# this is a generator that will read pictures found in\n",
        "# subfolers of 'data/train', and indefinitely generate\n",
        "# batches of augmented image data\n",
        "train_generator = train_datagen.flow_from_directory(\n",
        "        '/content/drive/My Drive/TFG software/dataset',  # this is the target directory\n",
        "        target_size=(256, 256),  # all images will be resized to 150x150\n",
        "        batch_size=16,\n",
        "        class_mode='binary')  # since we use binary_crossentropy loss, we need binary labels\n",
        "\n",
        "# the data, shuffled and split between train and test sets\n",
        "#(X_train, y_train), (X_test, y_test) = mnist.load_data()\n",
        "#X_train = X_train.reshape(60000, input_dim)\n",
        "#X_test = X_test.reshape(10000, input_dim)\n",
        "#X_train = X_train.astype('float32')\n",
        "#X_test = X_test.astype('float32')\n",
        "#X_train /= 255\n",
        "#X_test /= 255\n"
      ],
      "execution_count": 0,
      "outputs": []
    },
    {
      "metadata": {
        "id": "m_t5-FJBqAMK",
        "colab_type": "code",
        "colab": {}
      },
      "cell_type": "code",
      "source": [
        "datagen = ImageDataGenerator(\n",
        "        rotation_range=40,\n",
        "        width_shift_range=0.2,\n",
        "        height_shift_range=0.2,\n",
        "        shear_range=0.2,\n",
        "        zoom_range=0.2,\n",
        "        horizontal_flip=True,\n",
        "        fill_mode='nearest')\n",
        "\n",
        "img = load_img('/content/drive/My Drive/TFG software/database/108.png')  # this is a PIL image\n",
        "x = img_to_array(img)  # this is a Numpy array with shape (3, 150, 150)\n",
        "x = x.reshape((1,) + x.shape)  # this is a Numpy array with shape (1, 3, 150, 150)\n",
        "\n",
        "# the .flow() command below generates batches of randomly transformed images\n",
        "# and saves the results to the `preview/` directory\n",
        "i = 0\n",
        "for batch in datagen.flow(x, batch_size=1,save_to_dir='/content/drive/My Drive/TFG software/', save_prefix='1', save_format='png'):\n",
        "    i += 1\n",
        "    if i > 20:\n",
        "        break  # otherwise the generator would loop indefinitely"
      ],
      "execution_count": 0,
      "outputs": []
    },
    {
      "metadata": {
        "id": "V9SCO5vqq78g",
        "colab_type": "text"
      },
      "cell_type": "markdown",
      "source": [
        "### **Crear conjuntos de datos de entrenamiento y test** \n"
      ]
    },
    {
      "metadata": {
        "id": "NGB199xDq8bn",
        "colab_type": "code",
        "colab": {}
      },
      "cell_type": "code",
      "source": [
        "triples_data = create_triplet(number_images)\n",
        "\n",
        "print(\"# image triples:\", len(triples_data))\n",
        "\n",
        "tr_train = triples_data[0:1000]\n",
        "tr_val = triples_data[1000:1510]  #El tamaño tiene que ser par (No se mucho por que)\n",
        "\n",
        "print(\"# image triples:\", len(tr_train))\n",
        "print(\"# image triples:\", len(tr_val))\n",
        "\n",
        "image_cache = {}\n",
        "\n",
        "tr_load_train = triples_batch(tr_train)\n",
        "tr_load_val = triples_batch(tr_val)\n",
        "\n"
      ],
      "execution_count": 0,
      "outputs": []
    },
    {
      "metadata": {
        "id": "5XMvIFWd7N45",
        "colab_type": "code",
        "outputId": "9a0e13bd-f0f4-4fe3-d38c-69f833f5d495",
        "colab": {
          "base_uri": "https://localhost:8080/",
          "height": 85
        }
      },
      "cell_type": "code",
      "source": [
        "print(\"# image train triples:\", len(tr_train))\n",
        "[x for x in tr_train[0:5]]\n",
        "\n",
        "print(\"# image validation triples:\", len(tr_val))\n",
        "[x for x in tr_val[0:5]]\n",
        "\n",
        "print(tr_load_train.shape)\n",
        "\n",
        "print(tr_load_val.shape)"
      ],
      "execution_count": 0,
      "outputs": [
        {
          "output_type": "stream",
          "text": [
            "# image train triples: 1000\n",
            "# image validation triples: 510\n",
            "(1000, 3, 96, 96, 3)\n",
            "(510, 3, 96, 96, 3)\n"
          ],
          "name": "stdout"
        }
      ]
    },
    {
      "metadata": {
        "id": "ya7x2IZ4q8mN",
        "colab_type": "text"
      },
      "cell_type": "markdown",
      "source": [
        "### **Crear red siamesa** "
      ]
    },
    {
      "metadata": {
        "id": "Tk9pKrRhq8xL",
        "colab_type": "code",
        "outputId": "2b360ebc-1ccf-4c67-edb6-c2b6caed1f99",
        "colab": {
          "base_uri": "https://localhost:8080/",
          "height": 119
        }
      },
      "cell_type": "code",
      "source": [
        "# network definition\n",
        "base_network = create_base_network(input_dim, classes)\n",
        "#base_network.summary()\n",
        "\n",
        "\n",
        "anchor_a = Input(shape=(input_dim))   #Nos da un tensor del tamaño input_dim\n",
        "anchor_p = Input(shape=(input_dim))\n",
        "anchor_n = Input(shape=(input_dim))\n",
        "\n",
        "\n",
        "processed_a = base_network(anchor_a)\n",
        "processed_p = base_network(anchor_p)\n",
        "processed_n = base_network(anchor_n)\n",
        "\n",
        "#distance = Lambda(get_abs_diff, output_shape=abs_diff_output_shape)([processed_a, processed_p, processed_n])\n",
        "distance = Lambda(distance_vec, output_shape=abs_diff_output_shape)([processed_a, processed_p, processed_n])\n",
        "#distance = Lambda(lambda x: x[0]-x[1])([processed_a, processed_p, processed_n])\n",
        "\n",
        "#pred = Dense(3,kernel_initializer=\"glorot_uniform\")(distance)\n",
        "#pred = Activation(\"softmax\")(pred)\n",
        "\n",
        "pred = Dense(1, activation = 'sigmoid')(distance)\n",
        "\n",
        "model = Model(inputs=[anchor_a, anchor_p, anchor_n], outputs=pred)\n"
      ],
      "execution_count": 0,
      "outputs": [
        {
          "output_type": "stream",
          "text": [
            "WARNING:tensorflow:From /usr/local/lib/python3.6/dist-packages/tensorflow/python/framework/op_def_library.py:263: colocate_with (from tensorflow.python.framework.ops) is deprecated and will be removed in a future version.\n",
            "Instructions for updating:\n",
            "Colocations handled automatically by placer.\n",
            "WARNING:tensorflow:From /usr/local/lib/python3.6/dist-packages/keras/backend/tensorflow_backend.py:3445: calling dropout (from tensorflow.python.ops.nn_ops) with keep_prob is deprecated and will be removed in a future version.\n",
            "Instructions for updating:\n",
            "Please use `rate` instead of `keep_prob`. Rate should be set to `rate = 1 - keep_prob`.\n"
          ],
          "name": "stdout"
        }
      ]
    },
    {
      "metadata": {
        "id": "dlSqy90sq89q",
        "colab_type": "text"
      },
      "cell_type": "markdown",
      "source": [
        "### **Entrenar modelo**\n"
      ]
    },
    {
      "metadata": {
        "id": "2nDUFYuEAB9u",
        "colab_type": "code",
        "colab": {}
      },
      "cell_type": "code",
      "source": [
        "def reshape(data,dim):\n",
        "  data_a = data[:, 0].reshape(-1, dim[0], dim[1], dim[2])\n",
        "  data_p = data[:, 1].reshape(-1, dim[0], dim[1], dim[2])\n",
        "  data_n = data[:, 2].reshape(-1, dim[0], dim[1], dim[2])\n",
        "  return [data_a,data_p,data_n]\n",
        "\n",
        "#Datos de entrenamiento\n",
        "\n",
        "tr_load_train_ = reshape(tr_load_train,input_dim)\n",
        "tr_load_train_a = tr_load_train_[0]\n",
        "tr_load_train_p = tr_load_train_[1]\n",
        "tr_load_train_n = tr_load_train_[2]\n",
        "\n",
        "print(tr_load_train_a.shape)\n",
        "print(tr_load_train_p.shape)\n",
        "print(tr_load_train_n.shape)\n",
        "\n",
        "#Datos de validacion\n",
        "\n",
        "tr_load_val_ = reshape(tr_load_val,input_dim)\n",
        "tr_load_val_a = tr_load_val_[0]\n",
        "tr_load_val_p = tr_load_val_[1]\n",
        "tr_load_val_n = tr_load_val_[2]\n",
        "\n",
        "print(tr_load_val_a.shape)\n",
        "print(tr_load_val_p.shape)\n",
        "print(tr_load_val_n.shape)"
      ],
      "execution_count": 0,
      "outputs": []
    },
    {
      "metadata": {
        "id": "str8zx0HBFXP",
        "colab_type": "code",
        "outputId": "e43ddd6e-351c-438f-d702-71d3a8dc48a2",
        "colab": {
          "base_uri": "https://localhost:8080/",
          "height": 408
        }
      },
      "cell_type": "code",
      "source": [
        "INIT_LR = 1e-3\n",
        "EPOCHS = 100\n",
        "opt = Adam(lr=INIT_LR, decay=INIT_LR / EPOCHS)\n",
        "model.compile(loss=triple_loss, optimizer=opt, metrics=[\"accuracy\"])\n",
        "\n",
        "model.summary()"
      ],
      "execution_count": 0,
      "outputs": [
        {
          "output_type": "stream",
          "text": [
            "__________________________________________________________________________________________________\n",
            "Layer (type)                    Output Shape         Param #     Connected to                     \n",
            "==================================================================================================\n",
            "input_1 (InputLayer)            (None, 96, 96, 3)    0                                            \n",
            "__________________________________________________________________________________________________\n",
            "input_2 (InputLayer)            (None, 96, 96, 3)    0                                            \n",
            "__________________________________________________________________________________________________\n",
            "input_3 (InputLayer)            (None, 96, 96, 3)    0                                            \n",
            "__________________________________________________________________________________________________\n",
            "sequential_1 (Sequential)       (None, 1024)         8673152     input_1[0][0]                    \n",
            "                                                                 input_2[0][0]                    \n",
            "                                                                 input_3[0][0]                    \n",
            "__________________________________________________________________________________________________\n",
            "lambda_1 (Lambda)               (None, 1024)         0           sequential_1[1][0]               \n",
            "                                                                 sequential_1[2][0]               \n",
            "                                                                 sequential_1[3][0]               \n",
            "__________________________________________________________________________________________________\n",
            "dense_2 (Dense)                 (None, 1)            1025        lambda_1[0][0]                   \n",
            "==================================================================================================\n",
            "Total params: 8,674,177\n",
            "Trainable params: 8,671,297\n",
            "Non-trainable params: 2,880\n",
            "__________________________________________________________________________________________________\n"
          ],
          "name": "stdout"
        }
      ]
    },
    {
      "metadata": {
        "id": "_d4EOyv5dkFE",
        "colab_type": "code",
        "colab": {}
      },
      "cell_type": "code",
      "source": [
        "validation_data=([tr_load_val_a,tr_load_val_p,tr_load_val_n], val),"
      ],
      "execution_count": 0,
      "outputs": []
    },
    {
      "metadata": {
        "id": "gAikSlsZEBOI",
        "colab_type": "code",
        "colab": {}
      },
      "cell_type": "code",
      "source": [
        "train = np.ones(len(tr_load_train))\n",
        "val = np.ones(len(tr_load_val))\n",
        "a = model.fit([tr_load_train_a,tr_load_train_a,tr_load_train_a], train, batch_size=batch, epochs=nb_epoch, validation_data=([tr_load_val_a,tr_load_val_p,tr_load_val_n], val))"
      ],
      "execution_count": 0,
      "outputs": []
    },
    {
      "metadata": {
        "id": "JLhDWbl_T36_",
        "colab_type": "code",
        "outputId": "d43db674-e4fd-4167-87d8-d8893445631b",
        "colab": {
          "base_uri": "https://localhost:8080/",
          "height": 401
        }
      },
      "cell_type": "code",
      "source": [
        "plt.subplot(211)\n",
        "plt.title(\"Loss\")\n",
        "plt.plot(a.history[\"loss\"], color=\"r\", label=\"train\")\n",
        "plt.plot(a.history[\"val_loss\"], color=\"b\", label=\"validation\")\n",
        "plt.legend(loc=\"best\")\n",
        "\n",
        "plt.subplot(212)\n",
        "plt.title(\"Accuracy\")\n",
        "plt.plot(a.history[\"acc\"], color=\"r\", label=\"train\")\n",
        "plt.plot(a.history[\"val_acc\"], color=\"b\", label=\"validation\")\n",
        "plt.legend(loc=\"best\")\n",
        "\n",
        "plt.tight_layout()\n",
        "plt.show()"
      ],
      "execution_count": 0,
      "outputs": [
        {
          "output_type": "display_data",
          "data": {
            "image/png": "[encoded data removed]",
            "text/plain": [
              "<Figure size 576x396 with 2 Axes>"
            ]
          },
          "metadata": {
            "tags": []
          }
        }
      ]
    },
    {
      "metadata": {
        "id": "5S--RdYaOz3z",
        "colab_type": "code",
        "colab": {}
      },
      "cell_type": "code",
      "source": [
        "plt.subplot(211)\n",
        "plt.title(\"Loss\")\n",
        "plt.plot(a.history[\"loss\"], color=\"r\", label=\"train\")\n",
        "plt.plot(a.history[\"val_loss\"], color=\"b\", label=\"validation\")\n",
        "plt.legend(loc=\"best\")\n",
        "\n",
        "plt.subplot(212)\n",
        "plt.title(\"Accuracy\")\n",
        "plt.plot(a.history[\"acc\"], color=\"r\", label=\"train\")\n",
        "plt.plot(a.history[\"val_acc\"], color=\"b\", label=\"validation\")\n",
        "plt.legend(loc=\"best\")\n",
        "\n",
        "plt.tight_layout()\n",
        "plt.show()"
      ],
      "execution_count": 0,
      "outputs": []
    },
    {
      "metadata": {
        "id": "paZXfyDSr0VW",
        "colab_type": "text"
      },
      "cell_type": "markdown",
      "source": [
        "# **Test y prueba en funcionamiento**"
      ]
    },
    {
      "metadata": {
        "id": "JaGMjjXCr6W4",
        "colab_type": "text"
      },
      "cell_type": "markdown",
      "source": [
        "## **Test**"
      ]
    },
    {
      "metadata": {
        "id": "t07kR9viKzMe",
        "colab_type": "code",
        "colab": {}
      },
      "cell_type": "code",
      "source": [
        "def load_data(name, file):\n",
        "  if file == 1:\n",
        "    image = cv2.imread('/content/drive/My Drive/TFG software/database/' + name + '.jpg')\n",
        "  else:\n",
        "    image = cv2.imread('/content/drive/My Drive/TFG software/dataset/142/' + name + '.jpg')\n",
        "  image = cv2.resize(image, (96, 96))\n",
        "  image = img_to_array(image)\n",
        "  return image  \n",
        "\n",
        "def evaluate_data(name):\n",
        "  values = []\n",
        "  for i in range(1,classes+1):\n",
        "    images = []\n",
        "    name1 = str(i)\n",
        "    len_name = len(name1)\n",
        "    if len_name == 1:\n",
        "      name1= '00' + name1\n",
        "    elif len_name == 2:\n",
        "      name1= '0' + name1\n",
        "    images.append((load_data(name, 0),load_data(name1, 1),load_data(name1, 1)))\n",
        "    data = np.array(images, dtype=\"float\") / 255.0\n",
        "    data = reshape(data,input_dim)\n",
        "    values.append(model.predict([data[0],data[1],data[2]]))\n",
        "  return values\n"
      ],
      "execution_count": 0,
      "outputs": []
    },
    {
      "metadata": {
        "id": "76juyf6xYvh9",
        "colab_type": "code",
        "colab": {}
      },
      "cell_type": "code",
      "source": [
        "values = []\n",
        "values.append(evaluate_data('000'))\n"
      ],
      "execution_count": 0,
      "outputs": []
    },
    {
      "metadata": {
        "id": "j_-e1d8lsDtO",
        "colab_type": "code",
        "outputId": "12e5212c-a5a6-4925-fe0c-9a4da243d81e",
        "colab": {
          "base_uri": "https://localhost:8080/",
          "height": 88
        }
      },
      "cell_type": "code",
      "source": [
        "for i in values:\n",
        "  var = 1000\n",
        "  index_var = 0\n",
        "  print(i)\n",
        "  for index,j in enumerate(i):\n",
        "    if j <= var:\n",
        "      var = j\n",
        "      index_var=index\n",
        "  #if index_var == 0:\n",
        "    #print('Es un perro')\n",
        "  #else:\n",
        "    #print('Es un gato')\n",
        "  print(index_var,var)"
      ],
      "execution_count": 0,
      "outputs": [
        {
          "output_type": "stream",
          "text": [
            "[array([[0.6475703]], dtype=float32), array([[0.13353553]], dtype=float32), array([[0.03157064]], dtype=float32), array([[0.00397104]], dtype=float32), array([[0.0013061]], dtype=float32), array([[0.00209741]], dtype=float32), array([[0.25682968]], dtype=float32), array([[0.25567305]], dtype=float32), array([[0.12926425]], dtype=float32), array([[0.08930378]], dtype=float32), array([[0.00343528]], dtype=float32), array([[0.11927801]], dtype=float32), array([[0.00098123]], dtype=float32), array([[0.00502659]], dtype=float32), array([[0.00816533]], dtype=float32), array([[0.01701621]], dtype=float32), array([[0.01629381]], dtype=float32), array([[0.00302449]], dtype=float32), array([[0.00800266]], dtype=float32), array([[0.01721922]], dtype=float32), array([[0.00609043]], dtype=float32), array([[0.00073077]], dtype=float32), array([[0.03257935]], dtype=float32), array([[0.01825986]], dtype=float32), array([[0.00437008]], dtype=float32), array([[0.00110238]], dtype=float32), array([[0.16455846]], dtype=float32), array([[0.00473682]], dtype=float32), array([[0.41129458]], dtype=float32), array([[0.08677663]], dtype=float32), array([[0.3255394]], dtype=float32), array([[0.04598219]], dtype=float32), array([[0.05829195]], dtype=float32), array([[0.01438793]], dtype=float32), array([[0.26744828]], dtype=float32), array([[0.08108421]], dtype=float32), array([[0.00565674]], dtype=float32), array([[0.24914262]], dtype=float32), array([[0.13426296]], dtype=float32), array([[0.01756511]], dtype=float32), array([[0.00029786]], dtype=float32), array([[0.00094458]], dtype=float32), array([[0.00119585]], dtype=float32), array([[0.00308955]], dtype=float32), array([[0.00231625]], dtype=float32), array([[0.00539174]], dtype=float32), array([[0.00515001]], dtype=float32), array([[0.00355496]], dtype=float32), array([[0.00674714]], dtype=float32), array([[0.06880774]], dtype=float32), array([[0.05082524]], dtype=float32), array([[0.00478445]], dtype=float32), array([[0.00205837]], dtype=float32), array([[0.00960626]], dtype=float32), array([[0.00330129]], dtype=float32), array([[0.00152604]], dtype=float32), array([[0.040372]], dtype=float32), array([[0.01264951]], dtype=float32), array([[0.15677187]], dtype=float32), array([[0.0177613]], dtype=float32), array([[0.05166351]], dtype=float32), array([[0.00304443]], dtype=float32), array([[0.00143187]], dtype=float32), array([[0.01179978]], dtype=float32), array([[0.005692]], dtype=float32), array([[0.01570124]], dtype=float32), array([[0.04372647]], dtype=float32), array([[0.01640372]], dtype=float32), array([[0.00075681]], dtype=float32), array([[0.01567112]], dtype=float32), array([[0.01147866]], dtype=float32), array([[0.00164725]], dtype=float32), array([[0.01116731]], dtype=float32), array([[0.0003753]], dtype=float32), array([[0.00221176]], dtype=float32), array([[0.01575657]], dtype=float32), array([[0.00184614]], dtype=float32), array([[0.01155963]], dtype=float32), array([[0.01091853]], dtype=float32), array([[0.05062503]], dtype=float32), array([[0.00112632]], dtype=float32), array([[0.02290328]], dtype=float32), array([[0.01502689]], dtype=float32), array([[0.00013016]], dtype=float32), array([[0.00033189]], dtype=float32), array([[0.01260309]], dtype=float32), array([[0.06373393]], dtype=float32), array([[0.00879701]], dtype=float32), array([[0.00095653]], dtype=float32), array([[0.04756909]], dtype=float32), array([[0.06274229]], dtype=float32), array([[0.00857317]], dtype=float32), array([[0.00046453]], dtype=float32), array([[0.01008891]], dtype=float32), array([[0.00599459]], dtype=float32), array([[0.00603451]], dtype=float32), array([[0.00816072]], dtype=float32), array([[0.00181829]], dtype=float32), array([[0.00132541]], dtype=float32), array([[0.09914014]], dtype=float32), array([[0.6481845]], dtype=float32), array([[0.05275685]], dtype=float32), array([[0.02010049]], dtype=float32), array([[0.05116996]], dtype=float32), array([[0.01446543]], dtype=float32), array([[0.00052928]], dtype=float32), array([[0.00071451]], dtype=float32), array([[0.21098739]], dtype=float32), array([[0.03863311]], dtype=float32), array([[0.03476468]], dtype=float32), array([[0.3257087]], dtype=float32), array([[0.02037311]], dtype=float32), array([[0.0432807]], dtype=float32), array([[0.6376645]], dtype=float32), array([[0.18577425]], dtype=float32), array([[0.12185872]], dtype=float32), array([[0.01665295]], dtype=float32), array([[0.00230945]], dtype=float32), array([[0.18102281]], dtype=float32), array([[0.01503233]], dtype=float32), array([[0.40988633]], dtype=float32), array([[0.0165548]], dtype=float32), array([[0.00127455]], dtype=float32), array([[0.02947182]], dtype=float32), array([[0.00271594]], dtype=float32), array([[0.00544117]], dtype=float32), array([[0.00844769]], dtype=float32), array([[0.0011231]], dtype=float32), array([[0.00469333]], dtype=float32), array([[0.0031125]], dtype=float32), array([[0.00914723]], dtype=float32), array([[0.02133667]], dtype=float32), array([[0.00412845]], dtype=float32), array([[0.07117448]], dtype=float32), array([[0.02578743]], dtype=float32), array([[0.0078334]], dtype=float32), array([[0.02055215]], dtype=float32), array([[0.4350122]], dtype=float32), array([[0.15719046]], dtype=float32), array([[0.00118035]], dtype=float32), array([[0.00064418]], dtype=float32), array([[0.00045769]], dtype=float32), array([[0.03202212]], dtype=float32), array([[0.00790935]], dtype=float32), array([[0.00245623]], dtype=float32), array([[0.00024447]], dtype=float32), array([[0.00025157]], dtype=float32), array([[0.00073354]], dtype=float32), array([[0.00379247]], dtype=float32), array([[0.00288944]], dtype=float32), array([[0.00083304]], dtype=float32)]\n",
            "151\n",
            "100 [0.6481845]\n"
          ],
          "name": "stdout"
        }
      ]
    },
    {
      "metadata": {
        "id": "gzJICepEPPYC",
        "colab_type": "code",
        "colab": {}
      },
      "cell_type": "code",
      "source": [
        "suma = 0\n",
        "while(True):\n",
        "  suma = suma + 1\n",
        "  suma = suma - 1"
      ],
      "execution_count": 0,
      "outputs": []
    }
  ]
}
