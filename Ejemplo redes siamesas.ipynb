{
  "nbformat": 4,
  "nbformat_minor": 0,
  "metadata": {
    "colab": {
      "name": "06_keras_siamesas(1).ipynb",
      "version": "0.3.2",
      "provenance": [],
      "collapsed_sections": [
        "GZJbzSZL_yQH",
        "ysGZxJ4Y-NgV",
        "un-msfFf-TXq",
        "G05vHfOC-d2y",
        "BxkL_M6Q-0NV",
        "dk2Eb4u9-2uV",
        "36VgZYvt_jjd",
        "wOx07vE2_ns-",
        "tLKiXvGk_tm3"
      ],
      "include_colab_link": true
    },
    "kernelspec": {
      "name": "python3",
      "display_name": "Python 3"
    }
  },
  "cells": [
    {
      "cell_type": "markdown",
      "metadata": {
        "id": "view-in-github",
        "colab_type": "text"
      },
      "source": [
        "<a href=\"https://colab.research.google.com/github/Caumel/TFG_Software/blob/master/Ejemplo%20redes%20siamesas.ipynb\" target=\"_parent\"><img src=\"https://colab.research.google.com/assets/colab-badge.svg\" alt=\"Open In Colab\"/></a>"
      ]
    },
    {
      "metadata": {
        "id": "ZajwX0GI-GuX",
        "colab_type": "text"
      },
      "cell_type": "markdown",
      "source": [
        "# Redes Siamesas"
      ]
    },
    {
      "metadata": {
        "id": "GZJbzSZL_yQH",
        "colab_type": "text"
      },
      "cell_type": "markdown",
      "source": [
        "## Elementos auxiliares"
      ]
    },
    {
      "metadata": {
        "id": "ysGZxJ4Y-NgV",
        "colab_type": "text"
      },
      "cell_type": "markdown",
      "source": [
        "### Importar los módulos necesarios"
      ]
    },
    {
      "metadata": {
        "id": "DQPBOxHIdfXv",
        "colab_type": "code",
        "outputId": "75696f3a-a6c6-4290-8ca4-3f04e70deeb7",
        "colab": {
          "base_uri": "https://localhost:8080/",
          "height": 54
        }
      },
      "cell_type": "code",
      "source": [
        "\"\"\"\n",
        "A Siamese network example modified to use weighted L1 distance and cross-entropy loss, as in\n",
        "Siamese Neural Networks for One-shot Image Recognition\n",
        "http://www.cs.toronto.edu/~rsalakhu/papers/oneshot1.pdf\n",
        "\"\"\"\n",
        "\n",
        "\n",
        "import random\n",
        "import numpy as np\n",
        "\n",
        "from __future__ import absolute_import\n",
        "from __future__ import print_function\n",
        "\n",
        "from keras.datasets import mnist\n",
        "from keras.models import Sequential, Model\n",
        "from keras.layers import Dense, Dropout, Input, Lambda\n",
        "from keras.optimizers import SGD, RMSprop\n",
        "from keras import backend as K\n",
        "\n",
        "from sklearn.metrics import accuracy_score as accuracy"
      ],
      "execution_count": 0,
      "outputs": [
        {
          "output_type": "stream",
          "text": [
            "Using TensorFlow backend.\n"
          ],
          "name": "stderr"
        }
      ]
    },
    {
      "metadata": {
        "id": "un-msfFf-TXq",
        "colab_type": "text"
      },
      "cell_type": "markdown",
      "source": [
        "### Distancia L1 punto a punto entre dos vectores"
      ]
    },
    {
      "metadata": {
        "id": "DwKCIqpK-cKq",
        "colab_type": "code",
        "colab": {}
      },
      "cell_type": "code",
      "source": [
        "def get_abs_diff(vects):\n",
        "    # L1 distance between two vectors\n",
        "    x, y = vects\n",
        "    return K.abs(x - y)"
      ],
      "execution_count": 0,
      "outputs": []
    },
    {
      "metadata": {
        "id": "G05vHfOC-d2y",
        "colab_type": "text"
      },
      "cell_type": "markdown",
      "source": [
        "### ¿¿¿¿¿¿¿¿¿¿ Qué es esto ? ¿Quien lo invoca y para qué? ??????????"
      ]
    },
    {
      "metadata": {
        "id": "m-VwaYFldjWB",
        "colab_type": "code",
        "colab": {}
      },
      "cell_type": "code",
      "source": [
        "  \n",
        "\n",
        "def abs_diff_output_shape(shapes):\n",
        "    shape1, shape2 = shapes\n",
        "    return shape1 "
      ],
      "execution_count": 0,
      "outputs": []
    },
    {
      "metadata": {
        "id": "BxkL_M6Q-0NV",
        "colab_type": "text"
      },
      "cell_type": "markdown",
      "source": [
        "### Función para crear Pares de ejemplos positivos y negativos a partir del conjunto de entrenamiento"
      ]
    },
    {
      "metadata": {
        "id": "afNJQKR-dnNJ",
        "colab_type": "code",
        "colab": {}
      },
      "cell_type": "code",
      "source": [
        "def create_pairs(x, digit_indices):\n",
        "    '''Positive and negative pair creation.\n",
        "    Alternates between positive and negative pairs.\n",
        "    '''\n",
        "    pairs = []\n",
        "    labels = []\n",
        "    n = min([len(digit_indices[d]) for d in range(10)]) - 1\n",
        "    for d in range(10):\n",
        "        for i in range(n):\n",
        "            z1, z2 = digit_indices[d][i], digit_indices[d][i+1]\n",
        "            pairs += [[x[z1], x[z2]]]\n",
        "            inc = random.randrange(1, 10)\n",
        "            dn = (d + inc) % 10\n",
        "            z1, z2 = digit_indices[d][i], digit_indices[dn][i]\n",
        "            pairs += [[x[z1], x[z2]]]\n",
        "            labels += [1, 0]\n",
        "    return np.array(pairs), np.array(labels)"
      ],
      "execution_count": 0,
      "outputs": []
    },
    {
      "metadata": {
        "id": "dk2Eb4u9-2uV",
        "colab_type": "text"
      },
      "cell_type": "markdown",
      "source": [
        "### Crear la red neuronal *base*"
      ]
    },
    {
      "metadata": {
        "id": "1xOJV5eXdpRa",
        "colab_type": "code",
        "colab": {}
      },
      "cell_type": "code",
      "source": [
        "def create_base_network(input_dim):\n",
        "    '''Base network to be shared (eq. to feature extraction).\n",
        "    '''\n",
        "    seq = Sequential()\n",
        "    seq.add(Dense(128, input_shape=(input_dim,), activation='relu'))\n",
        "    seq.add(Dropout(0.1))\n",
        "    seq.add(Dense(128, activation='relu'))\n",
        "    seq.add(Dropout(0.1))\n",
        "    seq.add(Dense(128, activation='relu'))\n",
        "    return seq\n",
        "\n",
        "#"
      ],
      "execution_count": 0,
      "outputs": []
    },
    {
      "metadata": {
        "id": "-3iTJBjhd40a",
        "colab_type": "text"
      },
      "cell_type": "markdown",
      "source": [
        "## MAIN"
      ]
    },
    {
      "metadata": {
        "id": "zKXzCAJ9_Cao",
        "colab_type": "text"
      },
      "cell_type": "markdown",
      "source": [
        "###   Inicializaciones, descarga de datos y reescalado a [0,1]\n",
        "\n"
      ]
    },
    {
      "metadata": {
        "id": "VsVJFsoNd7X3",
        "colab_type": "code",
        "outputId": "b4a2249b-e285-41a6-f7ab-c8601e512b71",
        "colab": {
          "base_uri": "https://localhost:8080/",
          "height": 51
        }
      },
      "cell_type": "code",
      "source": [
        "np.random.seed(2018) ##- for reproducibility\n",
        "input_dim = 784\n",
        "nb_epoch = 5\n",
        "\n",
        "# the data, shuffled and split between train and test sets\n",
        "(X_train, y_train), (X_test, y_test) = mnist.load_data()\n",
        "X_train = X_train.reshape(60000, input_dim)\n",
        "X_test = X_test.reshape(10000, input_dim)\n",
        "X_train = X_train.astype('float32')\n",
        "X_test = X_test.astype('float32')\n",
        "X_train /= 255\n",
        "X_test /= 255"
      ],
      "execution_count": 0,
      "outputs": [
        {
          "output_type": "stream",
          "text": [
            "Downloading data from https://s3.amazonaws.com/img-datasets/mnist.npz\n",
            "11493376/11490434 [==============================] - 0s 0us/step\n"
          ],
          "name": "stdout"
        }
      ]
    },
    {
      "metadata": {
        "id": "7e79ayTK_OWi",
        "colab_type": "text"
      },
      "cell_type": "markdown",
      "source": [
        "### Crear conjuntos etiquetados de entrenamiento y test"
      ]
    },
    {
      "metadata": {
        "id": "KfWwJ8HLeB29",
        "colab_type": "code",
        "outputId": "f18a22d4-a555-4893-c15a-8a5ead01989f",
        "colab": {
          "base_uri": "https://localhost:8080/",
          "height": 71
        }
      },
      "cell_type": "code",
      "source": [
        "# create training+test positive and negative pairs\n",
        "digit_indices = [np.where(y_train == i)[0] for i in range(10)] #El cero es para que te haga un array de 10 posiciones y cada una de tamaño X\n",
        "print(digit_indices)\n",
        "tr_pairs, tr_y = create_pairs(X_train, digit_indices)\n",
        "print(tr_y)\n",
        "digit_indices = [np.where(y_test == i)[0] for i in range(10)]\n",
        "te_pairs, te_y = create_pairs(X_test, digit_indices)\n"
      ],
      "execution_count": 0,
      "outputs": [
        {
          "output_type": "stream",
          "text": [
            "[array([    1,    21,    34, ..., 59952, 59972, 59987]), array([    3,     6,     8, ..., 59979, 59984, 59994]), array([    5,    16,    25, ..., 59983, 59985, 59991]), array([    7,    10,    12, ..., 59978, 59980, 59996]), array([    2,     9,    20, ..., 59943, 59951, 59975]), array([    0,    11,    35, ..., 59968, 59993, 59997]), array([   13,    18,    32, ..., 59982, 59986, 59998]), array([   15,    29,    38, ..., 59963, 59977, 59988]), array([   17,    31,    41, ..., 59989, 59995, 59999]), array([    4,    19,    22, ..., 59973, 59990, 59992])]\n",
            "[1 0 1 ... 0 1 0]\n"
          ],
          "name": "stdout"
        }
      ]
    },
    {
      "metadata": {
        "id": "z8oyuMoygiKB",
        "colab_type": "code",
        "outputId": "9c7562e0-9930-442d-c82f-6caf46c40baa",
        "colab": {
          "base_uri": "https://localhost:8080/",
          "height": 34
        }
      },
      "cell_type": "code",
      "source": [
        "\n",
        "print(tr_pairs.shape)"
      ],
      "execution_count": 0,
      "outputs": [
        {
          "output_type": "stream",
          "text": [
            "(108400, 2, 784)\n"
          ],
          "name": "stdout"
        }
      ]
    },
    {
      "metadata": {
        "id": "36VgZYvt_jjd",
        "colab_type": "text"
      },
      "cell_type": "markdown",
      "source": [
        "### Crear la red siamesa"
      ]
    },
    {
      "metadata": {
        "id": "KTjlJ9kOvIOM",
        "colab_type": "text"
      },
      "cell_type": "markdown",
      "source": [
        ""
      ]
    },
    {
      "metadata": {
        "id": "BPv9duyseGS-",
        "colab_type": "code",
        "outputId": "e3efb38f-4b08-41ed-8edb-533b3c5fb662",
        "colab": {
          "base_uri": "https://localhost:8080/",
          "height": 54
        }
      },
      "cell_type": "code",
      "source": [
        "# network definition\n",
        "base_network = create_base_network(input_dim)\n",
        "\n",
        "input_a = Input(shape=(input_dim,))   #Nos da un tensor del tamaño input_dim\n",
        "input_b = Input(shape=(input_dim,))\n",
        "\n",
        "# because we re-use the same instance `base_network`,\n",
        "# the weights of the network\n",
        "# will be shared across the two branches\n",
        "processed_a = base_network(input_a)\n",
        "processed_b = base_network(input_b)\n",
        "\n",
        "\n",
        "abs_diff = Lambda(get_abs_diff, output_shape = abs_diff_output_shape)([processed_a, processed_b])\n",
        "\n",
        "flattened_weighted_distance = Dense(1, activation = 'sigmoid')(abs_diff)\n",
        "\n",
        "model = Model(input=[input_a, input_b], output = flattened_weighted_distance)"
      ],
      "execution_count": 0,
      "outputs": [
        {
          "output_type": "stream",
          "text": [
            "/usr/local/lib/python3.6/dist-packages/ipykernel_launcher.py:17: UserWarning: Update your `Model` call to the Keras 2 API: `Model(inputs=[<tf.Tenso..., outputs=Tensor(\"de...)`\n"
          ],
          "name": "stderr"
        }
      ]
    },
    {
      "metadata": {
        "id": "wOx07vE2_ns-",
        "colab_type": "text"
      },
      "cell_type": "markdown",
      "source": [
        "### Entrenar"
      ]
    },
    {
      "metadata": {
        "id": "LdIbXDRieZHL",
        "colab_type": "code",
        "outputId": "52f7a559-42ad-4500-e7a7-ef2b887c884b",
        "colab": {
          "base_uri": "https://localhost:8080/",
          "height": 238
        }
      },
      "cell_type": "code",
      "source": [
        "# train\n",
        "\n",
        "rms = RMSprop()\n",
        "model.compile(loss = 'binary_crossentropy', optimizer=rms, metrics = ['accuracy'])\n",
        "\n",
        "a = model.fit([tr_pairs[:, 0], tr_pairs[:, 1]], tr_y,\n",
        "          validation_data=([te_pairs[:, 0], te_pairs[:, 1]], te_y),\n",
        "          batch_size=128, nb_epoch=nb_epoch)"
      ],
      "execution_count": 0,
      "outputs": [
        {
          "output_type": "stream",
          "text": [
            "/usr/local/lib/python3.6/dist-packages/ipykernel_launcher.py:7: UserWarning: The `nb_epoch` argument in `fit` has been renamed `epochs`.\n",
            "  import sys\n"
          ],
          "name": "stderr"
        },
        {
          "output_type": "stream",
          "text": [
            "Train on 108400 samples, validate on 17820 samples\n",
            "Epoch 1/5\n",
            "108400/108400 [==============================] - 8s 72us/step - loss: 0.3263 - acc: 0.8625 - val_loss: 0.2522 - val_acc: 0.9128\n",
            "Epoch 2/5\n",
            "108400/108400 [==============================] - 7s 64us/step - loss: 0.1811 - acc: 0.9327 - val_loss: 0.2425 - val_acc: 0.9193\n",
            "Epoch 3/5\n",
            "108400/108400 [==============================] - 7s 64us/step - loss: 0.1334 - acc: 0.9515 - val_loss: 0.1884 - val_acc: 0.9412\n",
            "Epoch 4/5\n",
            "108400/108400 [==============================] - 8s 72us/step - loss: 0.1108 - acc: 0.9603 - val_loss: 0.1265 - val_acc: 0.9617\n",
            "Epoch 5/5\n",
            "108400/108400 [==============================] - 8s 73us/step - loss: 0.0930 - acc: 0.9672 - val_loss: 0.1150 - val_acc: 0.9639\n"
          ],
          "name": "stdout"
        }
      ]
    },
    {
      "metadata": {
        "id": "4-H51J5Q6XGM",
        "colab_type": "code",
        "outputId": "fb1cafa1-f2ed-4748-db21-583b345e7477",
        "colab": {
          "base_uri": "https://localhost:8080/",
          "height": 401
        }
      },
      "cell_type": "code",
      "source": [
        "import matplotlib.pyplot as plt\n",
        "\n",
        "\n",
        "plt.subplot(211)\n",
        "plt.title(\"Loss\")\n",
        "plt.plot(a.history[\"loss\"], color=\"r\", label=\"train\")\n",
        "plt.plot(a.history[\"val_loss\"], color=\"b\", label=\"validation\")\n",
        "plt.legend(loc=\"best\")\n",
        "\n",
        "plt.subplot(212)\n",
        "plt.title(\"Accuracy\")\n",
        "plt.plot(a.history[\"acc\"], color=\"r\", label=\"train\")\n",
        "plt.plot(a.history[\"val_acc\"], color=\"b\", label=\"validation\")\n",
        "plt.legend(loc=\"best\")\n",
        "\n",
        "plt.tight_layout()\n",
        "plt.show()"
      ],
      "execution_count": 0,
      "outputs": [
        {
          "output_type": "display_data",
          "data": {
            "image/png": "[encoded data removed]",
            "text/plain": [
              "<Figure size 576x396 with 2 Axes>"
            ]
          },
          "metadata": {
            "tags": []
          }
        }
      ]
    },
    {
      "metadata": {
        "id": "tLKiXvGk_tm3",
        "colab_type": "text"
      },
      "cell_type": "markdown",
      "source": [
        "### Test"
      ]
    },
    {
      "metadata": {
        "id": "z-wBUlkxc2Ho",
        "colab_type": "code",
        "outputId": "a7443624-a967-4c63-8f6f-ee5faaa1f9d0",
        "colab": {
          "base_uri": "https://localhost:8080/",
          "height": 51
        }
      },
      "cell_type": "code",
      "source": [
        "# test\n",
        "\n",
        "# compute final accuracy on training and test sets\n",
        "tr_pred = model.predict([tr_pairs[:, 0], tr_pairs[:, 1]])\n",
        "tr_acc = accuracy(tr_y, tr_pred.round())\n",
        "\n",
        "te_pred = model.predict([te_pairs[:, 0], te_pairs[:, 1]])\n",
        "te_acc = accuracy(te_y, te_pred.round())\n",
        "\n",
        "print('* Accuracy on the training set: {:.2%}'.format(tr_acc))\n",
        "print('* Accuracy on the test set: {:.2%}'.format(te_acc))\n",
        "\n"
      ],
      "execution_count": 0,
      "outputs": [
        {
          "output_type": "stream",
          "text": [
            "* Accuracy on the training set: 97.68%\n",
            "* Accuracy on the test set: 96.39%\n"
          ],
          "name": "stdout"
        }
      ]
    }
  ]
}