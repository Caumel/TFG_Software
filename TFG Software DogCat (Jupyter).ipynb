{
 "cells": [
  {
   "cell_type": "markdown",
   "metadata": {
    "colab_type": "text",
    "id": "yzuyLp4HCUkX"
   },
   "source": [
    "# **Redes neuronales siamesas**"
   ]
  },
  {
   "cell_type": "markdown",
   "metadata": {
    "colab_type": "text",
    "id": "v8qNmHTqCUy2"
   },
   "source": [
    "## **Preparacion codigo**"
   ]
  },
  {
   "cell_type": "markdown",
   "metadata": {
    "colab_type": "text",
    "id": "V1CDM5EPB4lU"
   },
   "source": [
    "### **Importando modulos necesarios**"
   ]
  },
  {
   "cell_type": "code",
   "execution_count": 4,
   "metadata": {
    "colab": {
     "base_uri": "https://localhost:8080/",
     "height": 34
    },
    "colab_type": "code",
    "executionInfo": {
     "elapsed": 2816,
     "status": "ok",
     "timestamp": 1550186104778,
     "user": {
      "displayName": "Luis Caumel",
      "photoUrl": "",
      "userId": "08450739378384452972"
     },
     "user_tz": -60
    },
    "id": "5UhweCKcBoOo",
    "outputId": "e1ce2169-153c-425b-db31-bb777ea73a84"
   },
   "outputs": [
    {
     "name": "stderr",
     "output_type": "stream",
     "text": [
      "Using TensorFlow backend.\n"
     ]
    }
   ],
   "source": [
    "from __future__ import absolute_import,division,print_function\n",
    "\n",
    "import tensorflow as tf\n",
    "import random\n",
    "from random import shuffle\n",
    "import numpy as np\n",
    "import matplotlib.pyplot as plt\n",
    "import os\n",
    "import itertools\n",
    "from PIL import Image as img\n",
    "import cv2\n",
    "from keras.optimizers import Adam\n",
    "\n",
    "\n",
    "from keras.preprocessing.image import img_to_array\n",
    "from keras.preprocessing.image import ImageDataGenerator,array_to_img, img_to_array, load_img\n",
    "from keras.models import Sequential, Model, load_model\n",
    "from keras.layers import Dense, Dropout, Input, Lambda, Flatten, Activation\n",
    "from keras.optimizers import SGD, RMSprop\n",
    "from keras import backend as K\n",
    "from keras.layers.normalization import BatchNormalization\n",
    "from keras.layers.convolutional import Conv2D\n",
    "from keras.layers.convolutional import MaxPooling2D\n",
    "from keras import backend as K\n",
    "from keras.layers.core import Activation, Dense, Dropout, Flatten, Lambda\n",
    "from keras.preprocessing import image\n",
    "\n",
    "from sklearn.metrics import accuracy_score, confusion_matrix\n",
    "from sklearn.metrics import accuracy_score as accuracy\n"
   ]
  },
  {
   "cell_type": "markdown",
   "metadata": {
    "colab_type": "text",
    "id": "EYEWUpcrG3Vv"
   },
   "source": [
    "### **Funcion para calcular la distantica L1 punto a punto entre dos vectores y triplet loss**"
   ]
  },
  {
   "cell_type": "code",
   "execution_count": 5,
   "metadata": {
    "colab": {},
    "colab_type": "code",
    "id": "aH1ZRvQPDtCc"
   },
   "outputs": [],
   "source": [
    "                        \n",
    "def abs_diff_output_shape(input_shapes):\n",
    "  shape1, shape2, shape3= input_shapes\n",
    "  return shape1\n",
    "  #shape1 = input_shapes[0]\n",
    "  #shape2 = input_shapes[1]\n",
    "  #assert shape1 == shape2  # else hadamard product isn't possible\n",
    "  #return [shape1, shape2]\n",
    "\n",
    "def distance_vec(y_pred): #Cosine distance\n",
    "  x = y_pred[0]\n",
    "  y = y_pred[1]\n",
    "  z = y_pred[2]\n",
    "  negative = K.prod(K.stack([x, y], axis=1), axis=1)\n",
    "  return negative\n",
    "  \n",
    "  #anchor = y_pred[0]\n",
    "  #positive = y_pred[1]\n",
    "  #negative = y_pred[2]\n",
    "\n",
    "  #positive_distance = K.abs(anchor-positive) #En principio mean y sum hacen lo mismo excepto que una hace media y otro suma\n",
    "  #negative_distance = K.abs(anchor-negative)\n",
    "  #return [positive_distance, negative_distance]\n",
    "  #return positive_distance - negative_distance\n",
    "\n",
    "def get_abs_diff(y_pred):\n",
    "    # L1 distance between two vectors\n",
    "    x = y_pred[0]\n",
    "    y = y_pred[1]\n",
    "    z = y_pred[2]\n",
    "    return K.abs(x - y)\n",
    "\n",
    "def triple_loss(y_true, y_pred):   # y_pred contiene la imagen ancla, positiva y negativa\n",
    "  alpha = 0.1\n",
    "  \n",
    "  anchor = y_pred[0]\n",
    "  positive = y_pred[1]\n",
    "  negative = y_pred[2]\n",
    "    \n",
    "  positive_distance = K.mean(K.square(anchor-positive),axis=-1)  #En principio mean y sum hacen lo mismo excepto que una hace media y otro suma\n",
    "  negative_distance = K.mean(K.square(anchor-negative),axis=-1)\n",
    "  \n",
    "  loss = positive_distance - negative_distance\n",
    "  return K.maximum(loss + alpha, 0)   "
   ]
  },
  {
   "cell_type": "markdown",
   "metadata": {
    "colab_type": "text",
    "id": "HksRdHOBGsiX"
   },
   "source": [
    "### **Funcion para crear tripletas y cargar las imagenes**\n",
    "\n"
   ]
  },
  {
   "cell_type": "code",
   "execution_count": 7,
   "metadata": {
    "colab": {},
    "colab_type": "code",
    "id": "jlov2ltiHFGo"
   },
   "outputs": [],
   "source": [
    "def get_random_image(img_groups, group_names, gid):\n",
    "  #print(gid)\n",
    "  gname = group_names[gid]\n",
    "  #print(gname)\n",
    "  photos = img_groups[gname]\n",
    "  pid = np.random.choice(np.arange(len(photos)), size=1)[0]\n",
    "  pname = photos[pid]\n",
    "  return gname[0:3] + \".\" + pname + \".jpg\"\n",
    "   \n",
    "def create_triplet(number_images): # Crea tripleta\n",
    "  img_groups = {}\n",
    "  for folder in  os.listdir('/home/luis/dog vs cat/dataset/training_set/'):\n",
    "    i = 0 \n",
    "    for img_file in os.listdir('/home/luis/dog vs cat/dataset/training_set/' + folder):\n",
    "      if i == number_images: # Para solo coger 40 fotos\n",
    "        break\n",
    "      prefix, suffix, ext = img_file.split(\".\")\n",
    "      if folder in img_groups:\n",
    "          img_groups[folder].append(suffix)\n",
    "      else:\n",
    "          img_groups[folder] = [suffix]\n",
    "      i += 1\n",
    "  pos_triples = []\n",
    "  # positive pairs and negative \n",
    "  group_names = list(img_groups.keys())\n",
    "  for key in img_groups.keys():\n",
    "    for i in range(0,number_images):\n",
    "      for j in range(i+1,number_images): # Si dejo i me cogeria duplas con elementos iguales osea (001,001)\n",
    "        if key=='dogs':\n",
    "          dn = 1\n",
    "        else:\n",
    "          dn = 0\n",
    "        right = get_random_image(img_groups, group_names, dn)\n",
    "        pos_triples.append((key[0:3] + \".\" + img_groups[key][i] + '.jpg', key[0:3] + \".\" + img_groups[key][j] + '.jpg', right))\n",
    "  return pos_triples  \n",
    "\n",
    "def load_image(image_name):\n",
    "  image = cv2.imread('/home/luis/dog vs cat/dataset/training_set/' + image_name[0:3] + 's' + '/' + image_name)\n",
    "  image = cv2.resize(image, (96, 96))\n",
    "  image = img_to_array(image)\n",
    "  return image    \n",
    "           \n",
    "def triples_batch(image_triples):#, batch_size): #Tripletas\n",
    "  images = []\n",
    "  for i in image_triples:\n",
    "      ahs, phs, nhs= i\n",
    "      images.append((load_image(ahs),load_image(phs),load_image(nhs)))\n",
    "  data = np.array(images, dtype=\"float\") / 255.0\n",
    "  return data\n",
    "  #return np.array(images)"
   ]
  },
  {
   "cell_type": "markdown",
   "metadata": {
    "colab_type": "text",
    "id": "Q9gjsvw88430"
   },
   "source": [
    "### Metodo para crear pares positivos y negativos"
   ]
  },
  {
   "cell_type": "code",
   "execution_count": 0,
   "metadata": {
    "colab": {},
    "colab_type": "code",
    "id": "CBv-qiRe9GBU"
   },
   "outputs": [],
   "source": [
    "def draw_image(subplot, image, title):\n",
    "    plt.subplot(subplot)\n",
    "    plt.imshow(image)\n",
    "    plt.title(title)\n",
    "    plt.xticks([])\n",
    "    plt.yticks([])\n",
    "    \n",
    "def printimg(triples_data, labels):\n",
    "  for i in triples_data:\n",
    "    print(i)\n",
    "    gid1 = i[0][0:3]\n",
    "    gid2 = i[1][0:3]\n",
    "    ref_image = plt.imread(os.path.join('/content/drive/My Drive/TFG software/dataset/' + gid1 , i[0]))\n",
    "    sim_image = plt.imread(os.path.join('/content/drive/My Drive/TFG software/dataset/' + gid2 , i[1]))\n",
    "    if labels[triples_data.index(i)] == 1:\n",
    "      draw_image(131, ref_image, \"similar\")\n",
    "      draw_image(132, sim_image, \"similar\")\n",
    "      plt.tight_layout()\n",
    "      plt.show()\n",
    "    else:\n",
    "      draw_image(131, ref_image, \"different\")\n",
    "      draw_image(132, sim_image, \"different\")\n",
    "      plt.tight_layout()\n",
    "      plt.show() \n",
    "\n",
    "def get_random_image(img_groups, group_names, gid):\n",
    "    gname = group_names[gid]\n",
    "    photos = img_groups[gname]\n",
    "    pid = np.random.choice(np.arange(len(photos)), size=1)[0]\n",
    "    pname = photos[pid]\n",
    "    return gname + pname + \".jpg\"\n",
    "   \n",
    "def create_pairs(): # Crea par positivo y par negativo\n",
    "  img_groups = {}\n",
    "  for folder in  os.listdir('/content/drive/My Drive/TFG software/dataset'):\n",
    "    i = 0 \n",
    "    for img_file in os.listdir('/content/drive/My Drive/TFG software/dataset/' + folder):\n",
    "      if i == number_images: # Para solo coger 40 fotos\n",
    "        break\n",
    "      prefix, suffix = img_file.split(\".\")\n",
    "      pid = prefix[3:]\n",
    "      if folder in img_groups:\n",
    "          img_groups[folder].append(pid)\n",
    "      else:\n",
    "          img_groups[folder] = [pid]\n",
    "      i += 1\n",
    "  pos_triples, neg_triples, labels = [], [], []\n",
    "  # positive pairs and negative \n",
    "  group_names = list(img_groups.keys())\n",
    "  for key in img_groups.keys():\n",
    "    for i in range(0,number_images):\n",
    "      for j in range(i+1,number_images): # Si dejo i me cogeria duplas con elementos iguales osea (001,001)\n",
    "        pos_triples.append((key + img_groups[key][i] + \".jpg\", key + img_groups[key][j] + \".jpg\"))\n",
    "        inc = random.randrange(1, classes+1)\n",
    "        dn = (int(key) + inc) % classes\n",
    "        right = get_random_image(img_groups, group_names, dn)\n",
    "        pos_triples.append((key + img_groups[key][i] + \".jpg\", right))\n",
    "        labels += [1, 0]\n",
    "  return pos_triples, labels  \n",
    "    #for key in img_groups.keys():   # Esta parte de aqui te pone una tripleta con el ultimo elemento 1 o 0 si es pos o neg y los negativos te hace un random que no se si se repetirian los ejemplos\n",
    "        #triples = [(key + x[0] + \".jpg\", key + x[1] + \".jpg\", 1) for x in itertools.combinations(img_groups[key], 2)]\n",
    "        #pos_triples.extend(triples)    \n",
    "    #need equal number of negative examples\n",
    "  #group_names = list(img_groups.keys())\n",
    "  #for i in range(len(pos_triples)):\n",
    "      #g1, g2 = np.random.choice(np.arange(len(group_names)), size=2, replace=False)\n",
    "      #left = get_random_image(img_groups, group_names, g1)\n",
    "      #right = get_random_image(img_groups, group_names, g2)\n",
    "      #neg_triples.append((left, right, 0))\n",
    "  #pos_triples.extend(neg_triples)\n",
    "  #shuffle(pos_triples)\n",
    "  #return pos_triples\n",
    "\n",
    "\n",
    "def load_image(image_name):\n",
    "    #if not image_name in image_cache:\n",
    "        ##image = plt.imread(os.path.join('/content/drive/My Drive/TFG software/dataset/' + image_name[0:3] , image_name))\n",
    "        #imagen = image.load_img('/content/drive/My Drive/TFG software/dataset/' + image_name[0:3] + '/' + image_name, target_size=(256, 256,3))\n",
    "        ##draw_image(132, image,image_name)\n",
    "        ##plt.tight_layout()\n",
    "        ##plt.show()\n",
    "        ##imagen = img.open('/content/drive/My Drive/TFG software/dataset/' + image_name[0:3] + '/' + image_name)\n",
    "        #imagen.thumbnail(input_dim, img.ANTIALIAS)\n",
    "        #imagen = np.divide(imagen, 256)\n",
    "        ##imagen = plt.imshow(img/255.)\n",
    "        #image_cache[image_name] = imagen   \n",
    "    #return image_cache[image_name]\n",
    "\n",
    "  image = cv2.imread('/content/drive/My Drive/TFG software/dataset/' + image_name[0:3] + '/' + image_name)\n",
    "  image = cv2.resize(image, (96, 96))\n",
    "  image = img_to_array(image)\n",
    "  return image    \n",
    "           \n",
    "def dobles_batch(image_triples, batch_size, labels): #Duplas\n",
    "  indices = np.arange(len(image_triples))\n",
    "  shuffled_triples = [image_triples[ix] for ix in indices]\n",
    "  num_batches = len(shuffled_triples) // batch_size\n",
    "  for bid in range(num_batches):\n",
    "    images = []\n",
    "    batch = shuffled_triples[bid * batch_size : (bid + 1) * batch_size]\n",
    "    for i in range(batch_size):\n",
    "      lhs, rhs= batch[i]\n",
    "      images.append((load_image(lhs),load_image(rhs)))\n",
    "  return np.array(images), np.array(labels)"
   ]
  },
  {
   "cell_type": "markdown",
   "metadata": {
    "colab_type": "text",
    "id": "aniGPta3HVE7"
   },
   "source": [
    "### **Crear red neuronal Convolucional**\n"
   ]
  },
  {
   "cell_type": "code",
   "execution_count": 8,
   "metadata": {
    "colab": {},
    "colab_type": "code",
    "id": "KlIPAdDyHRcz"
   },
   "outputs": [],
   "source": [
    "def create_base_network(input_dim, classes): # SmallerVGGnet\n",
    "  red = Sequential() \n",
    "  red.add(Conv2D(32, (3, 3), padding=\"same\",input_shape=input_dim))\n",
    "  red.add(Activation(\"relu\"))\n",
    "  red.add(BatchNormalization(axis=-1))\n",
    "  red.add(MaxPooling2D(pool_size=(3, 3)))\n",
    "  red.add(Dropout(0.25))\n",
    "  \n",
    "  # (CONV => RELU) * 2 => POOL\n",
    "  red.add(Conv2D(64, (3, 3), padding=\"same\"))\n",
    "  red.add(Activation(\"relu\"))\n",
    "  red.add(BatchNormalization(axis=-1))\n",
    "  red.add(Conv2D(64, (3, 3), padding=\"same\"))\n",
    "  red.add(Activation(\"relu\"))\n",
    "  red.add(BatchNormalization(axis=-1))\n",
    "  red.add(MaxPooling2D(pool_size=(2, 2)))\n",
    "  red.add(Dropout(0.25))\n",
    "  \n",
    "  # (CONV => RELU) * 2 => POOL\n",
    "  red.add(Conv2D(128, (3, 3), padding=\"same\"))\n",
    "  red.add(Activation(\"relu\"))\n",
    "  red.add(BatchNormalization(axis=-1))\n",
    "  red.add(Conv2D(128, (3, 3), padding=\"same\"))\n",
    "  red.add(Activation(\"relu\"))\n",
    "  red.add(BatchNormalization(axis=-1))\n",
    "  red.add(MaxPooling2D(pool_size=(2, 2)))\n",
    "  red.add(Dropout(0.25))\n",
    "  \n",
    "\t# first (and only) set of FC => RELU layers\n",
    "  red.add(Flatten())\n",
    "  red.add(Dense(1024))\n",
    "  red.add(Activation(\"relu\"))\n",
    "  red.add(BatchNormalization())\n",
    "  red.add(Dropout(0.5))\n",
    "  \n",
    "  return red "
   ]
  },
  {
   "cell_type": "markdown",
   "metadata": {
    "colab_type": "text",
    "id": "tVpDskYQqno1"
   },
   "source": [
    "## **Principal**"
   ]
  },
  {
   "cell_type": "markdown",
   "metadata": {
    "colab_type": "text",
    "id": "0EePEpaNqw4a"
   },
   "source": [
    "### **Inicializar datos y normalizarlos**"
   ]
  },
  {
   "cell_type": "code",
   "execution_count": 18,
   "metadata": {
    "colab": {
     "base_uri": "https://localhost:8080/",
     "height": 34
    },
    "colab_type": "code",
    "executionInfo": {
     "elapsed": 496,
     "status": "ok",
     "timestamp": 1550187578666,
     "user": {
      "displayName": "Luis Caumel",
      "photoUrl": "",
      "userId": "08450739378384452972"
     },
     "user_tz": -60
    },
    "id": "DbZ40Cjvp5HQ",
    "outputId": "f004d125-1c38-4965-b597-921007a8c62d"
   },
   "outputs": [],
   "source": [
    "number_images = 100 # Numero de imagenes cogidas\n",
    "classes = 2 # Numero de pokemones\n",
    "batch = 128\n",
    "nb_epoch = 5\n",
    "\n",
    "input_dim = (96,96,3) # Son el ancho el alto y la profundidad de la imagen, 3 al ser en color es la variable input_dim pero todavia no esta tocada"
   ]
  },
  {
   "cell_type": "markdown",
   "metadata": {
    "colab_type": "text",
    "id": "vDF1KvPet_Gy"
   },
   "source": [
    "### Crear varias imagenes apartir de una moviendola o rotandola"
   ]
  },
  {
   "cell_type": "code",
   "execution_count": 0,
   "metadata": {
    "colab": {},
    "colab_type": "code",
    "id": "FXrC8WJ_kmdZ"
   },
   "outputs": [],
   "source": [
    "train_datagen = ImageDataGenerator(\n",
    "        rescale=1./255,\n",
    "        shear_range=0.2,\n",
    "        horizontal_flip=True)\n",
    "\n",
    "# this is a generator that will read pictures found in\n",
    "# subfolers of 'data/train', and indefinitely generate\n",
    "# batches of augmented image data\n",
    "train_generator = train_datagen.flow_from_directory(\n",
    "        '/content/drive/My Drive/TFG software/dataset',  # this is the target directory\n",
    "        target_size=(256, 256),  # all images will be resized to 150x150\n",
    "        batch_size=16,\n",
    "        class_mode='binary')  # since we use binary_crossentropy loss, we need binary labels\n",
    "\n",
    "# the data, shuffled and split between train and test sets\n",
    "#(X_train, y_train), (X_test, y_test) = mnist.load_data()\n",
    "#X_train = X_train.reshape(60000, input_dim)\n",
    "#X_test = X_test.reshape(10000, input_dim)\n",
    "#X_train = X_train.astype('float32')\n",
    "#X_test = X_test.astype('float32')\n",
    "#X_train /= 255\n",
    "#X_test /= 255\n"
   ]
  },
  {
   "cell_type": "code",
   "execution_count": 0,
   "metadata": {
    "colab": {},
    "colab_type": "code",
    "id": "m_t5-FJBqAMK"
   },
   "outputs": [],
   "source": [
    "datagen = ImageDataGenerator(\n",
    "        rotation_range=40,\n",
    "        width_shift_range=0.2,\n",
    "        height_shift_range=0.2,\n",
    "        shear_range=0.2,\n",
    "        zoom_range=0.2,\n",
    "        horizontal_flip=True,\n",
    "        fill_mode='nearest')\n",
    "\n",
    "img = load_img('/content/drive/My Drive/TFG software/database/108.png')  # this is a PIL image\n",
    "x = img_to_array(img)  # this is a Numpy array with shape (3, 150, 150)\n",
    "x = x.reshape((1,) + x.shape)  # this is a Numpy array with shape (1, 3, 150, 150)\n",
    "\n",
    "# the .flow() command below generates batches of randomly transformed images\n",
    "# and saves the results to the `preview/` directory\n",
    "i = 0\n",
    "for batch in datagen.flow(x, batch_size=1,save_to_dir='/content/drive/My Drive/TFG software/', save_prefix='1', save_format='png'):\n",
    "    i += 1\n",
    "    if i > 20:\n",
    "        break  # otherwise the generator would loop indefinitely"
   ]
  },
  {
   "cell_type": "markdown",
   "metadata": {
    "colab_type": "text",
    "id": "V9SCO5vqq78g"
   },
   "source": [
    "### **Crear conjuntos de datos de entrenamiento y test** \n"
   ]
  },
  {
   "cell_type": "code",
   "execution_count": 20,
   "metadata": {
    "colab": {
     "base_uri": "https://localhost:8080/",
     "height": 68
    },
    "colab_type": "code",
    "executionInfo": {
     "elapsed": 1081,
     "status": "ok",
     "timestamp": 1550187520033,
     "user": {
      "displayName": "Luis Caumel",
      "photoUrl": "",
      "userId": "08450739378384452972"
     },
     "user_tz": -60
    },
    "id": "NGB199xDq8bn",
    "outputId": "0f509413-9316-425b-f585-84fad5cc7373"
   },
   "outputs": [
    {
     "name": "stdout",
     "output_type": "stream",
     "text": [
      "# image triples: 9900\n",
      "# image triples: 9000\n",
      "# image triples: 900\n"
     ]
    },
    {
     "ename": "MemoryError",
     "evalue": "",
     "output_type": "error",
     "traceback": [
      "\u001b[0;31m---------------------------------------------------------------------------\u001b[0m",
      "\u001b[0;31mMemoryError\u001b[0m                               Traceback (most recent call last)",
      "\u001b[0;32m<ipython-input-20-f8b6f261836e>\u001b[0m in \u001b[0;36m<module>\u001b[0;34m\u001b[0m\n\u001b[1;32m     11\u001b[0m \u001b[0mimage_cache\u001b[0m \u001b[0;34m=\u001b[0m \u001b[0;34m{\u001b[0m\u001b[0;34m}\u001b[0m\u001b[0;34m\u001b[0m\u001b[0;34m\u001b[0m\u001b[0m\n\u001b[1;32m     12\u001b[0m \u001b[0;34m\u001b[0m\u001b[0m\n\u001b[0;32m---> 13\u001b[0;31m \u001b[0mtr_load_train\u001b[0m \u001b[0;34m=\u001b[0m \u001b[0mtriples_batch\u001b[0m\u001b[0;34m(\u001b[0m\u001b[0mtr_train\u001b[0m\u001b[0;34m)\u001b[0m\u001b[0;34m\u001b[0m\u001b[0;34m\u001b[0m\u001b[0m\n\u001b[0m\u001b[1;32m     14\u001b[0m \u001b[0mtr_load_val\u001b[0m \u001b[0;34m=\u001b[0m \u001b[0mtriples_batch\u001b[0m\u001b[0;34m(\u001b[0m\u001b[0mtr_val\u001b[0m\u001b[0;34m)\u001b[0m\u001b[0;34m\u001b[0m\u001b[0;34m\u001b[0m\u001b[0m\n\u001b[1;32m     15\u001b[0m \u001b[0;34m\u001b[0m\u001b[0m\n",
      "\u001b[0;32m<ipython-input-7-79f9c418dc84>\u001b[0m in \u001b[0;36mtriples_batch\u001b[0;34m(image_triples)\u001b[0m\n\u001b[1;32m     46\u001b[0m       \u001b[0mahs\u001b[0m\u001b[0;34m,\u001b[0m \u001b[0mphs\u001b[0m\u001b[0;34m,\u001b[0m \u001b[0mnhs\u001b[0m\u001b[0;34m=\u001b[0m \u001b[0mi\u001b[0m\u001b[0;34m\u001b[0m\u001b[0;34m\u001b[0m\u001b[0m\n\u001b[1;32m     47\u001b[0m       \u001b[0mimages\u001b[0m\u001b[0;34m.\u001b[0m\u001b[0mappend\u001b[0m\u001b[0;34m(\u001b[0m\u001b[0;34m(\u001b[0m\u001b[0mload_image\u001b[0m\u001b[0;34m(\u001b[0m\u001b[0mahs\u001b[0m\u001b[0;34m)\u001b[0m\u001b[0;34m,\u001b[0m\u001b[0mload_image\u001b[0m\u001b[0;34m(\u001b[0m\u001b[0mphs\u001b[0m\u001b[0;34m)\u001b[0m\u001b[0;34m,\u001b[0m\u001b[0mload_image\u001b[0m\u001b[0;34m(\u001b[0m\u001b[0mnhs\u001b[0m\u001b[0;34m)\u001b[0m\u001b[0;34m)\u001b[0m\u001b[0;34m)\u001b[0m\u001b[0;34m\u001b[0m\u001b[0;34m\u001b[0m\u001b[0m\n\u001b[0;32m---> 48\u001b[0;31m   \u001b[0mdata\u001b[0m \u001b[0;34m=\u001b[0m \u001b[0mnp\u001b[0m\u001b[0;34m.\u001b[0m\u001b[0marray\u001b[0m\u001b[0;34m(\u001b[0m\u001b[0mimages\u001b[0m\u001b[0;34m,\u001b[0m \u001b[0mdtype\u001b[0m\u001b[0;34m=\u001b[0m\u001b[0;34m\"float\"\u001b[0m\u001b[0;34m)\u001b[0m \u001b[0;34m/\u001b[0m \u001b[0;36m255.0\u001b[0m\u001b[0;34m\u001b[0m\u001b[0;34m\u001b[0m\u001b[0m\n\u001b[0m\u001b[1;32m     49\u001b[0m   \u001b[0;32mreturn\u001b[0m \u001b[0mdata\u001b[0m\u001b[0;34m\u001b[0m\u001b[0;34m\u001b[0m\u001b[0m\n\u001b[1;32m     50\u001b[0m   \u001b[0;31m#return np.array(images)\u001b[0m\u001b[0;34m\u001b[0m\u001b[0;34m\u001b[0m\u001b[0;34m\u001b[0m\u001b[0m\n",
      "\u001b[0;31mMemoryError\u001b[0m: "
     ]
    }
   ],
   "source": [
    "triples_data = create_triplet(number_images)\n",
    "\n",
    "print(\"# image triples:\", len(triples_data))\n",
    "\n",
    "tr_train = triples_data[0:9000]\n",
    "tr_val = triples_data[9000:9900]  #El tamaño tiene que ser par (No se mucho por que)\n",
    "\n",
    "print(\"# image triples:\", len(tr_train))\n",
    "print(\"# image triples:\", len(tr_val))\n",
    "\n",
    "image_cache = {}\n",
    "\n",
    "tr_load_train = triples_batch(tr_train)\n",
    "tr_load_val = triples_batch(tr_val)\n",
    "\n",
    "print('Done')"
   ]
  },
  {
   "cell_type": "code",
   "execution_count": 12,
   "metadata": {
    "colab": {
     "base_uri": "https://localhost:8080/",
     "height": 85
    },
    "colab_type": "code",
    "executionInfo": {
     "elapsed": 483,
     "status": "ok",
     "timestamp": 1550187527510,
     "user": {
      "displayName": "Luis Caumel",
      "photoUrl": "",
      "userId": "08450739378384452972"
     },
     "user_tz": -60
    },
    "id": "5XMvIFWd7N45",
    "outputId": "dd8b793a-4ac2-41fb-b67e-d0a7225eb113"
   },
   "outputs": [
    {
     "name": "stdout",
     "output_type": "stream",
     "text": [
      "# image train triples: 15\n",
      "# image validation triples: 5\n",
      "(15, 3, 96, 96, 3)\n",
      "(5, 3, 96, 96, 3)\n"
     ]
    }
   ],
   "source": [
    "print(\"# image train triples:\", len(tr_train))\n",
    "[x for x in tr_train[0:5]]\n",
    "\n",
    "print(\"# image validation triples:\", len(tr_val))\n",
    "[x for x in tr_val[0:5]]\n",
    "\n",
    "print(tr_load_train.shape)\n",
    "\n",
    "print(tr_load_val.shape)"
   ]
  },
  {
   "cell_type": "markdown",
   "metadata": {
    "colab_type": "text",
    "id": "ya7x2IZ4q8mN"
   },
   "source": [
    "### **Crear red siamesa** "
   ]
  },
  {
   "cell_type": "code",
   "execution_count": 13,
   "metadata": {
    "colab": {},
    "colab_type": "code",
    "id": "Tk9pKrRhq8xL"
   },
   "outputs": [],
   "source": [
    "# network definition\n",
    "base_network = create_base_network(input_dim, classes)\n",
    "#base_network.summary()\n",
    "from keras.layers import Layer\n",
    "\n",
    "anchor_a = Input(shape=(input_dim))   #Nos da un tensor del tamaño input_dim\n",
    "anchor_p = Input(shape=(input_dim))\n",
    "anchor_n = Input(shape=(input_dim))\n",
    "\n",
    "\n",
    "processed_a = base_network(anchor_a)\n",
    "processed_p = base_network(anchor_p)\n",
    "processed_n = base_network(anchor_n)\n",
    "\n",
    "#distance = Lambda(get_abs_diff, output_shape=abs_diff_output_shape)([processed_a, processed_p, processed_n])\n",
    "distance = Lambda(distance_vec, output_shape=abs_diff_output_shape)([processed_a, processed_p, processed_n])\n",
    "#distance = Lambda(lambda x: x[0]-x[1])([processed_a, processed_p, processed_n])\n",
    "\n",
    "#fc1 = Dense(512, kernel_initializer=\"glorot_uniform\")(distance)\n",
    "#fc1 = Dropout(0.2)(fc1)\n",
    "#fc1 = Activation(\"relu\")(fc1)\n",
    "\n",
    "#pred = Dense(3,kernel_initializer=\"glorot_uniform\")(distance)\n",
    "#pred = Activation(\"softmax\")(pred)\n",
    "#pred = keras.activations.softmax(distance, axis=-1)\n",
    "\n",
    "pred = Dense(1, activation = 'sigmoid')(distance)\n",
    "\n",
    "model = Model(inputs=[anchor_a, anchor_p, anchor_n], outputs=pred)\n"
   ]
  },
  {
   "cell_type": "markdown",
   "metadata": {
    "colab_type": "text",
    "id": "dlSqy90sq89q"
   },
   "source": [
    "### **Entrenar modelo**\n"
   ]
  },
  {
   "cell_type": "code",
   "execution_count": 14,
   "metadata": {
    "colab": {
     "base_uri": "https://localhost:8080/",
     "height": 119
    },
    "colab_type": "code",
    "executionInfo": {
     "elapsed": 473,
     "status": "ok",
     "timestamp": 1550187567586,
     "user": {
      "displayName": "Luis Caumel",
      "photoUrl": "",
      "userId": "08450739378384452972"
     },
     "user_tz": -60
    },
    "id": "2nDUFYuEAB9u",
    "outputId": "73a02934-8dbe-4c70-dd1a-683f2bbb1aff"
   },
   "outputs": [
    {
     "name": "stdout",
     "output_type": "stream",
     "text": [
      "(15, 96, 96, 3)\n",
      "(15, 96, 96, 3)\n",
      "(15, 96, 96, 3)\n",
      "(5, 96, 96, 3)\n",
      "(5, 96, 96, 3)\n",
      "(5, 96, 96, 3)\n"
     ]
    }
   ],
   "source": [
    "def reshape(data,dim):\n",
    "  data_a = data[:, 0].reshape(-1, dim[0], dim[1], dim[2])\n",
    "  data_p = data[:, 1].reshape(-1, dim[0], dim[1], dim[2])\n",
    "  data_n = data[:, 2].reshape(-1, dim[0], dim[1], dim[2])\n",
    "  return [data_a,data_p,data_n]\n",
    "\n",
    "#Datos de entrenamiento\n",
    "\n",
    "tr_load_train_ = reshape(tr_load_train,input_dim)\n",
    "tr_load_train_a = tr_load_train_[0]\n",
    "tr_load_train_p = tr_load_train_[1]\n",
    "tr_load_train_n = tr_load_train_[2]\n",
    "\n",
    "print(tr_load_train_a.shape)\n",
    "print(tr_load_train_p.shape)\n",
    "print(tr_load_train_n.shape)\n",
    "\n",
    "#Datos de validacion\n",
    "\n",
    "tr_load_val_ = reshape(tr_load_val,input_dim)\n",
    "tr_load_val_a = tr_load_val_[0]\n",
    "tr_load_val_p = tr_load_val_[1]\n",
    "tr_load_val_n = tr_load_val_[2]\n",
    "\n",
    "print(tr_load_val_a.shape)\n",
    "print(tr_load_val_p.shape)\n",
    "print(tr_load_val_n.shape)"
   ]
  },
  {
   "cell_type": "code",
   "execution_count": 15,
   "metadata": {
    "colab": {
     "base_uri": "https://localhost:8080/",
     "height": 408
    },
    "colab_type": "code",
    "executionInfo": {
     "elapsed": 488,
     "status": "ok",
     "timestamp": 1550187583439,
     "user": {
      "displayName": "Luis Caumel",
      "photoUrl": "",
      "userId": "08450739378384452972"
     },
     "user_tz": -60
    },
    "id": "str8zx0HBFXP",
    "outputId": "19c69c6a-6498-4a81-914b-abc0f0fc7fd2",
    "scrolled": true
   },
   "outputs": [
    {
     "name": "stdout",
     "output_type": "stream",
     "text": [
      "__________________________________________________________________________________________________\n",
      "Layer (type)                    Output Shape         Param #     Connected to                     \n",
      "==================================================================================================\n",
      "input_1 (InputLayer)            (None, 96, 96, 3)    0                                            \n",
      "__________________________________________________________________________________________________\n",
      "input_2 (InputLayer)            (None, 96, 96, 3)    0                                            \n",
      "__________________________________________________________________________________________________\n",
      "input_3 (InputLayer)            (None, 96, 96, 3)    0                                            \n",
      "__________________________________________________________________________________________________\n",
      "sequential_1 (Sequential)       (None, 1024)         8673152     input_1[0][0]                    \n",
      "                                                                 input_2[0][0]                    \n",
      "                                                                 input_3[0][0]                    \n",
      "__________________________________________________________________________________________________\n",
      "lambda_1 (Lambda)               (None, 1024)         0           sequential_1[1][0]               \n",
      "                                                                 sequential_1[2][0]               \n",
      "                                                                 sequential_1[3][0]               \n",
      "__________________________________________________________________________________________________\n",
      "dense_2 (Dense)                 (None, 1)            1025        lambda_1[0][0]                   \n",
      "==================================================================================================\n",
      "Total params: 8,674,177\n",
      "Trainable params: 8,671,297\n",
      "Non-trainable params: 2,880\n",
      "__________________________________________________________________________________________________\n"
     ]
    }
   ],
   "source": [
    "INIT_LR = 1e-3\n",
    "EPOCHS = 100\n",
    "opt = Adam(lr=INIT_LR, decay=INIT_LR / EPOCHS)\n",
    "model.compile(loss=triple_loss, optimizer=opt, metrics=[\"accuracy\"])\n",
    "\n",
    "model.summary()"
   ]
  },
  {
   "cell_type": "code",
   "execution_count": 16,
   "metadata": {
    "colab": {
     "base_uri": "https://localhost:8080/",
     "height": 306
    },
    "colab_type": "code",
    "executionInfo": {
     "elapsed": 19951,
     "status": "ok",
     "timestamp": 1550187604951,
     "user": {
      "displayName": "Luis Caumel",
      "photoUrl": "",
      "userId": "08450739378384452972"
     },
     "user_tz": -60
    },
    "id": "gAikSlsZEBOI",
    "outputId": "f32b4314-38a7-40bf-8869-09f26ee758ac",
    "scrolled": true
   },
   "outputs": [
    {
     "name": "stdout",
     "output_type": "stream",
     "text": [
      "Train on 15 samples, validate on 5 samples\n",
      "Epoch 1/5\n",
      "15/15 [==============================] - 4s 239ms/step - loss: 0.0663 - acc: 0.4000 - val_loss: 0.1000 - val_acc: 0.6000\n",
      "Epoch 2/5\n",
      "15/15 [==============================] - 1s 57ms/step - loss: 0.0000e+00 - acc: 0.7333 - val_loss: 0.0000e+00 - val_acc: 0.0000e+00\n",
      "Epoch 3/5\n",
      "15/15 [==============================] - 1s 57ms/step - loss: 0.4318 - acc: 0.6000 - val_loss: 0.0674 - val_acc: 0.2000\n",
      "Epoch 4/5\n",
      "15/15 [==============================] - 1s 57ms/step - loss: 0.0000e+00 - acc: 0.6000 - val_loss: 0.0000e+00 - val_acc: 0.0000e+00\n",
      "Epoch 5/5\n",
      "15/15 [==============================] - 1s 57ms/step - loss: 0.1782 - acc: 0.6000 - val_loss: 0.0512 - val_acc: 0.6000\n"
     ]
    }
   ],
   "source": [
    "train = np.ones(len(tr_load_train))\n",
    "val = np.ones(len(tr_load_val))\n",
    "a = model.fit([tr_load_train_a,tr_load_train_a,tr_load_train_a], train, batch_size=batch, epochs=nb_epoch, validation_data=([tr_load_val_a,tr_load_val_p,tr_load_val_n], val))"
   ]
  },
  {
   "cell_type": "code",
   "execution_count": 17,
   "metadata": {
    "colab": {
     "base_uri": "https://localhost:8080/",
     "height": 401
    },
    "colab_type": "code",
    "executionInfo": {
     "elapsed": 1202,
     "status": "ok",
     "timestamp": 1550187623474,
     "user": {
      "displayName": "Luis Caumel",
      "photoUrl": "",
      "userId": "08450739378384452972"
     },
     "user_tz": -60
    },
    "id": "JLhDWbl_T36_",
    "outputId": "8e8d8b84-39b3-43c8-c63d-93facfe17310"
   },
   "outputs": [
    {
     "data": {
      "image/png": "[encoded data removed]",
      "text/plain": [
       "<Figure size 432x288 with 2 Axes>"
      ]
     },
     "metadata": {
      "needs_background": "light"
     },
     "output_type": "display_data"
    }
   ],
   "source": [
    "plt.subplot(211)\n",
    "plt.title(\"Loss\")\n",
    "plt.plot(a.history[\"loss\"], color=\"r\", label=\"train\")\n",
    "plt.plot(a.history[\"val_loss\"], color=\"b\", label=\"validation\")\n",
    "plt.legend(loc=\"best\")\n",
    "\n",
    "plt.subplot(212)\n",
    "plt.title(\"Accuracy\")\n",
    "plt.plot(a.history[\"acc\"], color=\"r\", label=\"train\")\n",
    "plt.plot(a.history[\"val_acc\"], color=\"b\", label=\"validation\")\n",
    "plt.legend(loc=\"best\")\n",
    "\n",
    "plt.tight_layout()\n",
    "plt.show()"
   ]
  },
  {
   "cell_type": "markdown",
   "metadata": {
    "colab_type": "text",
    "id": "paZXfyDSr0VW"
   },
   "source": [
    "# **Test y prueba en funcionamiento**"
   ]
  },
  {
   "cell_type": "markdown",
   "metadata": {
    "colab_type": "text",
    "id": "JaGMjjXCr6W4"
   },
   "source": [
    "## **Test**"
   ]
  },
  {
   "cell_type": "code",
   "execution_count": 0,
   "metadata": {
    "colab": {},
    "colab_type": "code",
    "id": "t07kR9viKzMe"
   },
   "outputs": [],
   "source": [
    "def load_data(name):\n",
    "  image = cv2.imread('/content/drive/My Drive/TFG software/' + name + '.jpg')\n",
    "  image = cv2.resize(image, (96, 96))\n",
    "  image = img_to_array(image)\n",
    "  return image  \n",
    "\n",
    "def evaluate_data(name):\n",
    "  values = []\n",
    "  for i in range(1,classes+1):\n",
    "    images = []\n",
    "    if i == 1:\n",
    "      images.append((load_data(name),load_data('a'),load_data('a')))\n",
    "    else:\n",
    "      images.append((load_data(name),load_data('z'),load_data('z')))\n",
    "    data = np.array(images, dtype=\"float\") / 255.0\n",
    "    data = reshape(data,input_dim)\n",
    "    values.append(model.predict([data[0],data[1],data[2]]))\n",
    "  return values"
   ]
  },
  {
   "cell_type": "code",
   "execution_count": 0,
   "metadata": {
    "colab": {},
    "colab_type": "code",
    "id": "76juyf6xYvh9"
   },
   "outputs": [],
   "source": [
    "values = []\n",
    "values.append(evaluate_data('1'))  \n",
    "values.append(evaluate_data('2'))  \n",
    "values.append(evaluate_data('3'))  \n",
    "values.append(evaluate_data('4'))  \n",
    "values.append(evaluate_data('5'))  \n",
    "values.append(evaluate_data('6'))  \n",
    "values.append(evaluate_data('7'))  \n",
    "values.append(evaluate_data('8'))  \n",
    "values.append(evaluate_data('9'))  \n",
    "values.append(evaluate_data('10')) \n"
   ]
  },
  {
   "cell_type": "code",
   "execution_count": 40,
   "metadata": {
    "colab": {
     "base_uri": "https://localhost:8080/",
     "height": 187
    },
    "colab_type": "code",
    "executionInfo": {
     "elapsed": 477,
     "status": "ok",
     "timestamp": 1550187679145,
     "user": {
      "displayName": "Luis Caumel",
      "photoUrl": "",
      "userId": "08450739378384452972"
     },
     "user_tz": -60
    },
    "id": "-QfLaz4pgpKL",
    "outputId": "726565b2-c54f-4b40-a02b-c2a8331eebfb"
   },
   "outputs": [
    {
     "name": "stdout",
     "output_type": "stream",
     "text": [
      "[array([[0.90051705]], dtype=float32), array([[0.7646512]], dtype=float32)]\n",
      "[array([[0.29737613]], dtype=float32), array([[0.1887825]], dtype=float32)]\n",
      "[array([[0.8020452]], dtype=float32), array([[0.629047]], dtype=float32)]\n",
      "[array([[0.47413656]], dtype=float32), array([[0.45062965]], dtype=float32)]\n",
      "[array([[0.6507756]], dtype=float32), array([[5.145962e-11]], dtype=float32)]\n",
      "[array([[0.84323645]], dtype=float32), array([[0.64831984]], dtype=float32)]\n",
      "[array([[0.97580475]], dtype=float32), array([[0.7569377]], dtype=float32)]\n",
      "[array([[0.8974747]], dtype=float32), array([[0.3618822]], dtype=float32)]\n",
      "[array([[0.83581287]], dtype=float32), array([[0.80615646]], dtype=float32)]\n",
      "[array([[0.68706775]], dtype=float32), array([[0.4095326]], dtype=float32)]\n"
     ]
    }
   ],
   "source": [
    "for i in values:\n",
    "  var = 1000\n",
    "  index_var = 0\n",
    "  print(i)\n",
    "  for index,j in enumerate(i):\n",
    "    if j <= var:\n",
    "      var = j\n",
    "      index_var=index\n",
    "  #if index_var == 0:\n",
    "    #print('Es un perro')\n",
    "  #else:\n",
    "    #print('Es un gato')\n",
    "#print(index_var,var)"
   ]
  }
 ],
 "metadata": {
  "accelerator": "TPU",
  "colab": {
   "collapsed_sections": [
    "Q9gjsvw88430",
    "vDF1KvPet_Gy"
   ],
   "name": "TFG Software DogCat.ipynb",
   "provenance": [],
   "version": "0.3.2"
  },
  "kernelspec": {
   "display_name": "Python 3",
   "language": "python",
   "name": "python3"
  },
  "language_info": {
   "codemirror_mode": {
    "name": "ipython",
    "version": 3
   },
   "file_extension": ".py",
   "mimetype": "text/x-python",
   "name": "python",
   "nbconvert_exporter": "python",
   "pygments_lexer": "ipython3",
   "version": "3.6.8"
  }
 },
 "nbformat": 4,
 "nbformat_minor": 1
}
