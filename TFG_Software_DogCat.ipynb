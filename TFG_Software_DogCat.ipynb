{
  "nbformat": 4,
  "nbformat_minor": 0,
  "metadata": {
    "colab": {
      "name": "TFG Software DogCat.ipynb",
      "version": "0.3.2",
      "provenance": [],
      "collapsed_sections": [
        "Q9gjsvw88430",
        "vDF1KvPet_Gy"
      ],
      "include_colab_link": true
    },
    "kernelspec": {
      "name": "python3",
      "display_name": "Python 3"
    },
    "accelerator": "TPU"
  },
  "cells": [
    {
      "cell_type": "markdown",
      "metadata": {
        "id": "view-in-github",
        "colab_type": "text"
      },
      "source": [
        "<a href=\"https://colab.research.google.com/github/Caumel/TFG_Software/blob/master/TFG_Software_DogCat.ipynb\" target=\"_parent\"><img src=\"https://colab.research.google.com/assets/colab-badge.svg\" alt=\"Open In Colab\"/></a>"
      ]
    },
    {
      "metadata": {
        "id": "yzuyLp4HCUkX",
        "colab_type": "text"
      },
      "cell_type": "markdown",
      "source": [
        "# **Redes neuronales siamesas**"
      ]
    },
    {
      "metadata": {
        "id": "v8qNmHTqCUy2",
        "colab_type": "text"
      },
      "cell_type": "markdown",
      "source": [
        "## **Preparacion codigo**"
      ]
    },
    {
      "metadata": {
        "id": "V1CDM5EPB4lU",
        "colab_type": "text"
      },
      "cell_type": "markdown",
      "source": [
        "### **Importando modulos necesarios**"
      ]
    },
    {
      "metadata": {
        "id": "5UhweCKcBoOo",
        "colab_type": "code",
        "outputId": "e1ce2169-153c-425b-db31-bb777ea73a84",
        "colab": {
          "base_uri": "https://localhost:8080/",
          "height": 34
        }
      },
      "cell_type": "code",
      "source": [
        "import tensorflow as tf\n",
        "import random\n",
        "from random import shuffle\n",
        "import numpy as np\n",
        "import pandas as pd\n",
        "import matplotlib.pyplot as plt\n",
        "import os\n",
        "import itertools\n",
        "from PIL import Image as img\n",
        "import cv2\n",
        "from keras.optimizers import Adam\n",
        "\n",
        "from __future__ import absolute_import,division,print_function\n",
        "\n",
        "from keras.preprocessing.image import img_to_array\n",
        "from keras.preprocessing.image import ImageDataGenerator,array_to_img, img_to_array, load_img\n",
        "from keras.models import Sequential, Model, load_model\n",
        "from keras.layers import Dense, Dropout, Input, Lambda, Flatten, Activation\n",
        "from keras.optimizers import SGD, RMSprop\n",
        "from keras import backend as K\n",
        "from keras.layers.normalization import BatchNormalization\n",
        "from keras.layers.convolutional import Conv2D\n",
        "from keras.layers.convolutional import MaxPooling2D\n",
        "from keras import backend as K\n",
        "from keras.layers.core import Activation, Dense, Dropout, Flatten, Lambda\n",
        "from keras.preprocessing import image\n",
        "\n",
        "from sklearn.metrics import accuracy_score, confusion_matrix\n",
        "from sklearn.metrics import accuracy_score as accuracy\n"
      ],
      "execution_count": 0,
      "outputs": [
        {
          "output_type": "stream",
          "text": [
            "Using TensorFlow backend.\n"
          ],
          "name": "stderr"
        }
      ]
    },
    {
      "metadata": {
        "id": "EYEWUpcrG3Vv",
        "colab_type": "text"
      },
      "cell_type": "markdown",
      "source": [
        "### **Funcion para calcular la distantica L1 punto a punto entre dos vectores y triplet loss**"
      ]
    },
    {
      "metadata": {
        "id": "aH1ZRvQPDtCc",
        "colab_type": "code",
        "colab": {}
      },
      "cell_type": "code",
      "source": [
        "                        \n",
        "def abs_diff_output_shape(input_shapes):\n",
        "  shape1, shape2, shape3= input_shapes\n",
        "  return shape1\n",
        "  #shape1 = input_shapes[0]\n",
        "  #shape2 = input_shapes[1]\n",
        "  #assert shape1 == shape2  # else hadamard product isn't possible\n",
        "  #return [shape1, shape2]\n",
        "\n",
        "def distance_vec(y_pred): #Cosine distance\n",
        "  x = y_pred[0]\n",
        "  y = y_pred[1]\n",
        "  z = y_pred[2]\n",
        "  negative = K.prod(K.stack([x, y], axis=1), axis=1)\n",
        "  return negative\n",
        "  \n",
        "  #anchor = y_pred[0]\n",
        "  #positive = y_pred[1]\n",
        "  #negative = y_pred[2]\n",
        "\n",
        "  #positive_distance = K.abs(anchor-positive) #En principio mean y sum hacen lo mismo excepto que una hace media y otro suma\n",
        "  #negative_distance = K.abs(anchor-negative)\n",
        "  #return [positive_distance, negative_distance]\n",
        "  #return positive_distance - negative_distance\n",
        "\n",
        "def get_abs_diff(y_pred):\n",
        "    # L1 distance between two vectors\n",
        "    x = y_pred[0]\n",
        "    y = y_pred[1]\n",
        "    z = y_pred[2]\n",
        "    return K.abs(x - y)\n",
        "\n",
        "def triple_loss(y_true, y_pred):   # y_pred contiene la imagen ancla, positiva y negativa\n",
        "  alpha = 0.1\n",
        "  \n",
        "  anchor = y_pred[0]\n",
        "  positive = y_pred[1]\n",
        "  negative = y_pred[2]\n",
        "    \n",
        "  positive_distance = K.mean(K.square(anchor-positive),axis=-1)  #En principio mean y sum hacen lo mismo excepto que una hace media y otro suma\n",
        "  negative_distance = K.mean(K.square(anchor-negative),axis=-1)\n",
        "  \n",
        "  loss = positive_distance - negative_distance\n",
        "  return K.maximum(loss + alpha, 0)   "
      ],
      "execution_count": 0,
      "outputs": []
    },
    {
      "metadata": {
        "id": "HksRdHOBGsiX",
        "colab_type": "text"
      },
      "cell_type": "markdown",
      "source": [
        "### **Funcion para crear tripletas y cargar las imagenes**\n",
        "\n"
      ]
    },
    {
      "metadata": {
        "id": "jlov2ltiHFGo",
        "colab_type": "code",
        "colab": {}
      },
      "cell_type": "code",
      "source": [
        "def get_random_image(img_groups, group_names, gid):\n",
        "  #print(gid)\n",
        "  gname = group_names[gid]\n",
        "  #print(gname)\n",
        "  photos = img_groups[gname]\n",
        "  pid = np.random.choice(np.arange(len(photos)), size=1)[0]\n",
        "  pname = photos[pid]\n",
        "  return gname[0:3] + \".\" + pname + \".jpg\"\n",
        "   \n",
        "def create_triplet(number_images): # Crea tripleta\n",
        "  img_groups = {}\n",
        "  for folder in  os.listdir('/content/drive/My Drive/TFG software/dog vs cat/dataset/training_set/'):\n",
        "    i = 0 \n",
        "    for img_file in os.listdir('/content/drive/My Drive/TFG software/dog vs cat/dataset/training_set/' + folder):\n",
        "      if i == number_images: # Para solo coger 40 fotos\n",
        "        break\n",
        "      prefix, suffix, ext = img_file.split(\".\")\n",
        "      if folder in img_groups:\n",
        "          img_groups[folder].append(suffix)\n",
        "      else:\n",
        "          img_groups[folder] = [suffix]\n",
        "      i += 1\n",
        "  pos_triples = []\n",
        "  # positive pairs and negative \n",
        "  group_names = list(img_groups.keys())\n",
        "  for key in img_groups.keys():\n",
        "    for i in range(0,number_images):\n",
        "      for j in range(i+1,number_images): # Si dejo i me cogeria duplas con elementos iguales osea (001,001)\n",
        "        if key=='dogs':\n",
        "          dn = 1\n",
        "        else:\n",
        "          dn = 0\n",
        "        right = get_random_image(img_groups, group_names, dn)\n",
        "        pos_triples.append((key[0:3] + \".\" + img_groups[key][i] + '.jpg', key[0:3] + \".\" + img_groups[key][j] + '.jpg', right))\n",
        "  return pos_triples  \n",
        "\n",
        "def load_image(image_name):\n",
        "  image = cv2.imread('/content/drive/My Drive/TFG software/dog vs cat/dataset/training_set/' + image_name[0:3] + 's' + '/' + image_name)\n",
        "  image = cv2.resize(image, (96, 96))\n",
        "  image = img_to_array(image)\n",
        "  return image    \n",
        "           \n",
        "def triples_batch(image_triples):#, batch_size): #Tripletas\n",
        "  images = []\n",
        "  for i in image_triples:\n",
        "      ahs, phs, nhs= i\n",
        "      images.append((load_image(ahs),load_image(phs),load_image(nhs)))\n",
        "  data = np.array(images, dtype=\"float\") / 255.0\n",
        "  return data\n",
        "  #return np.array(images)"
      ],
      "execution_count": 0,
      "outputs": []
    },
    {
      "metadata": {
        "id": "Q9gjsvw88430",
        "colab_type": "text"
      },
      "cell_type": "markdown",
      "source": [
        "### Metodo para crear pares positivos y negativos"
      ]
    },
    {
      "metadata": {
        "id": "CBv-qiRe9GBU",
        "colab_type": "code",
        "colab": {}
      },
      "cell_type": "code",
      "source": [
        "def draw_image(subplot, image, title):\n",
        "    plt.subplot(subplot)\n",
        "    plt.imshow(image)\n",
        "    plt.title(title)\n",
        "    plt.xticks([])\n",
        "    plt.yticks([])\n",
        "    \n",
        "def printimg(triples_data, labels):\n",
        "  for i in triples_data:\n",
        "    print(i)\n",
        "    gid1 = i[0][0:3]\n",
        "    gid2 = i[1][0:3]\n",
        "    ref_image = plt.imread(os.path.join('/content/drive/My Drive/TFG software/dataset/' + gid1 , i[0]))\n",
        "    sim_image = plt.imread(os.path.join('/content/drive/My Drive/TFG software/dataset/' + gid2 , i[1]))\n",
        "    if labels[triples_data.index(i)] == 1:\n",
        "      draw_image(131, ref_image, \"similar\")\n",
        "      draw_image(132, sim_image, \"similar\")\n",
        "      plt.tight_layout()\n",
        "      plt.show()\n",
        "    else:\n",
        "      draw_image(131, ref_image, \"different\")\n",
        "      draw_image(132, sim_image, \"different\")\n",
        "      plt.tight_layout()\n",
        "      plt.show() \n",
        "\n",
        "def get_random_image(img_groups, group_names, gid):\n",
        "    gname = group_names[gid]\n",
        "    photos = img_groups[gname]\n",
        "    pid = np.random.choice(np.arange(len(photos)), size=1)[0]\n",
        "    pname = photos[pid]\n",
        "    return gname + pname + \".jpg\"\n",
        "   \n",
        "def create_pairs(): # Crea par positivo y par negativo\n",
        "  img_groups = {}\n",
        "  for folder in  os.listdir('/content/drive/My Drive/TFG software/dataset'):\n",
        "    i = 0 \n",
        "    for img_file in os.listdir('/content/drive/My Drive/TFG software/dataset/' + folder):\n",
        "      if i == number_images: # Para solo coger 40 fotos\n",
        "        break\n",
        "      prefix, suffix = img_file.split(\".\")\n",
        "      pid = prefix[3:]\n",
        "      if folder in img_groups:\n",
        "          img_groups[folder].append(pid)\n",
        "      else:\n",
        "          img_groups[folder] = [pid]\n",
        "      i += 1\n",
        "  pos_triples, neg_triples, labels = [], [], []\n",
        "  # positive pairs and negative \n",
        "  group_names = list(img_groups.keys())\n",
        "  for key in img_groups.keys():\n",
        "    for i in range(0,number_images):\n",
        "      for j in range(i+1,number_images): # Si dejo i me cogeria duplas con elementos iguales osea (001,001)\n",
        "        pos_triples.append((key + img_groups[key][i] + \".jpg\", key + img_groups[key][j] + \".jpg\"))\n",
        "        inc = random.randrange(1, classes+1)\n",
        "        dn = (int(key) + inc) % classes\n",
        "        right = get_random_image(img_groups, group_names, dn)\n",
        "        pos_triples.append((key + img_groups[key][i] + \".jpg\", right))\n",
        "        labels += [1, 0]\n",
        "  return pos_triples, labels  \n",
        "    #for key in img_groups.keys():   # Esta parte de aqui te pone una tripleta con el ultimo elemento 1 o 0 si es pos o neg y los negativos te hace un random que no se si se repetirian los ejemplos\n",
        "        #triples = [(key + x[0] + \".jpg\", key + x[1] + \".jpg\", 1) for x in itertools.combinations(img_groups[key], 2)]\n",
        "        #pos_triples.extend(triples)    \n",
        "    #need equal number of negative examples\n",
        "  #group_names = list(img_groups.keys())\n",
        "  #for i in range(len(pos_triples)):\n",
        "      #g1, g2 = np.random.choice(np.arange(len(group_names)), size=2, replace=False)\n",
        "      #left = get_random_image(img_groups, group_names, g1)\n",
        "      #right = get_random_image(img_groups, group_names, g2)\n",
        "      #neg_triples.append((left, right, 0))\n",
        "  #pos_triples.extend(neg_triples)\n",
        "  #shuffle(pos_triples)\n",
        "  #return pos_triples\n",
        "\n",
        "\n",
        "def load_image(image_name):\n",
        "    #if not image_name in image_cache:\n",
        "        ##image = plt.imread(os.path.join('/content/drive/My Drive/TFG software/dataset/' + image_name[0:3] , image_name))\n",
        "        #imagen = image.load_img('/content/drive/My Drive/TFG software/dataset/' + image_name[0:3] + '/' + image_name, target_size=(256, 256,3))\n",
        "        ##draw_image(132, image,image_name)\n",
        "        ##plt.tight_layout()\n",
        "        ##plt.show()\n",
        "        ##imagen = img.open('/content/drive/My Drive/TFG software/dataset/' + image_name[0:3] + '/' + image_name)\n",
        "        #imagen.thumbnail(input_dim, img.ANTIALIAS)\n",
        "        #imagen = np.divide(imagen, 256)\n",
        "        ##imagen = plt.imshow(img/255.)\n",
        "        #image_cache[image_name] = imagen   \n",
        "    #return image_cache[image_name]\n",
        "\n",
        "  image = cv2.imread('/content/drive/My Drive/TFG software/dataset/' + image_name[0:3] + '/' + image_name)\n",
        "  image = cv2.resize(image, (96, 96))\n",
        "  image = img_to_array(image)\n",
        "  return image    \n",
        "           \n",
        "def dobles_batch(image_triples, batch_size, labels): #Duplas\n",
        "  indices = np.arange(len(image_triples))\n",
        "  shuffled_triples = [image_triples[ix] for ix in indices]\n",
        "  num_batches = len(shuffled_triples) // batch_size\n",
        "  for bid in range(num_batches):\n",
        "    images = []\n",
        "    batch = shuffled_triples[bid * batch_size : (bid + 1) * batch_size]\n",
        "    for i in range(batch_size):\n",
        "      lhs, rhs= batch[i]\n",
        "      images.append((load_image(lhs),load_image(rhs)))\n",
        "  return np.array(images), np.array(labels)"
      ],
      "execution_count": 0,
      "outputs": []
    },
    {
      "metadata": {
        "id": "aniGPta3HVE7",
        "colab_type": "text"
      },
      "cell_type": "markdown",
      "source": [
        "### **Crear red neuronal Convolucional**\n"
      ]
    },
    {
      "metadata": {
        "id": "KlIPAdDyHRcz",
        "colab_type": "code",
        "colab": {}
      },
      "cell_type": "code",
      "source": [
        "def create_base_network(input_dim, classes): # SmallerVGGnet\n",
        "  red = Sequential() \n",
        "  red.add(Conv2D(32, (3, 3), padding=\"same\",input_shape=input_dim))\n",
        "  red.add(Activation(\"relu\"))\n",
        "  red.add(BatchNormalization(axis=-1))\n",
        "  red.add(MaxPooling2D(pool_size=(3, 3)))\n",
        "  red.add(Dropout(0.25))\n",
        "  \n",
        "  # (CONV => RELU) * 2 => POOL\n",
        "  red.add(Conv2D(64, (3, 3), padding=\"same\"))\n",
        "  red.add(Activation(\"relu\"))\n",
        "  red.add(BatchNormalization(axis=-1))\n",
        "  red.add(Conv2D(64, (3, 3), padding=\"same\"))\n",
        "  red.add(Activation(\"relu\"))\n",
        "  red.add(BatchNormalization(axis=-1))\n",
        "  red.add(MaxPooling2D(pool_size=(2, 2)))\n",
        "  red.add(Dropout(0.25))\n",
        "  \n",
        "  # (CONV => RELU) * 2 => POOL\n",
        "  red.add(Conv2D(128, (3, 3), padding=\"same\"))\n",
        "  red.add(Activation(\"relu\"))\n",
        "  red.add(BatchNormalization(axis=-1))\n",
        "  red.add(Conv2D(128, (3, 3), padding=\"same\"))\n",
        "  red.add(Activation(\"relu\"))\n",
        "  red.add(BatchNormalization(axis=-1))\n",
        "  red.add(MaxPooling2D(pool_size=(2, 2)))\n",
        "  red.add(Dropout(0.25))\n",
        "  \n",
        "\t# first (and only) set of FC => RELU layers\n",
        "  red.add(Flatten())\n",
        "  red.add(Dense(1024))\n",
        "  red.add(Activation(\"relu\"))\n",
        "  red.add(BatchNormalization())\n",
        "  red.add(Dropout(0.5))\n",
        "  \n",
        "  return red "
      ],
      "execution_count": 0,
      "outputs": []
    },
    {
      "metadata": {
        "id": "tVpDskYQqno1",
        "colab_type": "text"
      },
      "cell_type": "markdown",
      "source": [
        "## **Principal**"
      ]
    },
    {
      "metadata": {
        "id": "0EePEpaNqw4a",
        "colab_type": "text"
      },
      "cell_type": "markdown",
      "source": [
        "### **Inicializar datos y normalizarlos**"
      ]
    },
    {
      "metadata": {
        "id": "DbZ40Cjvp5HQ",
        "colab_type": "code",
        "outputId": "f004d125-1c38-4965-b597-921007a8c62d",
        "colab": {
          "base_uri": "https://localhost:8080/",
          "height": 34
        }
      },
      "cell_type": "code",
      "source": [
        "number_images = 5 # Numero de imagenes cogidas\n",
        "classes = 2 # Numero de pokemones\n",
        "batch = 128\n",
        "nb_epoch = 5\n",
        "\n",
        "input_dim = (96,96,3) # Son el ancho el alto y la profundidad de la imagen, 3 al ser en color es la variable input_dim pero todavia no esta tocada\n",
        "\n",
        "from google.colab import drive\n",
        "drive.mount('/content/drive')"
      ],
      "execution_count": 0,
      "outputs": [
        {
          "output_type": "stream",
          "text": [
            "Drive already mounted at /content/drive; to attempt to forcibly remount, call drive.mount(\"/content/drive\", force_remount=True).\n"
          ],
          "name": "stdout"
        }
      ]
    },
    {
      "metadata": {
        "id": "vDF1KvPet_Gy",
        "colab_type": "text"
      },
      "cell_type": "markdown",
      "source": [
        "### Crear varias imagenes apartir de una moviendola o rotandola"
      ]
    },
    {
      "metadata": {
        "id": "FXrC8WJ_kmdZ",
        "colab_type": "code",
        "colab": {}
      },
      "cell_type": "code",
      "source": [
        "train_datagen = ImageDataGenerator(\n",
        "        rescale=1./255,\n",
        "        shear_range=0.2,\n",
        "        horizontal_flip=True)\n",
        "\n",
        "# this is a generator that will read pictures found in\n",
        "# subfolers of 'data/train', and indefinitely generate\n",
        "# batches of augmented image data\n",
        "train_generator = train_datagen.flow_from_directory(\n",
        "        '/content/drive/My Drive/TFG software/dataset',  # this is the target directory\n",
        "        target_size=(256, 256),  # all images will be resized to 150x150\n",
        "        batch_size=16,\n",
        "        class_mode='binary')  # since we use binary_crossentropy loss, we need binary labels\n",
        "\n",
        "# the data, shuffled and split between train and test sets\n",
        "#(X_train, y_train), (X_test, y_test) = mnist.load_data()\n",
        "#X_train = X_train.reshape(60000, input_dim)\n",
        "#X_test = X_test.reshape(10000, input_dim)\n",
        "#X_train = X_train.astype('float32')\n",
        "#X_test = X_test.astype('float32')\n",
        "#X_train /= 255\n",
        "#X_test /= 255\n"
      ],
      "execution_count": 0,
      "outputs": []
    },
    {
      "metadata": {
        "id": "m_t5-FJBqAMK",
        "colab_type": "code",
        "colab": {}
      },
      "cell_type": "code",
      "source": [
        "datagen = ImageDataGenerator(\n",
        "        rotation_range=40,\n",
        "        width_shift_range=0.2,\n",
        "        height_shift_range=0.2,\n",
        "        shear_range=0.2,\n",
        "        zoom_range=0.2,\n",
        "        horizontal_flip=True,\n",
        "        fill_mode='nearest')\n",
        "\n",
        "img = load_img('/content/drive/My Drive/TFG software/database/108.png')  # this is a PIL image\n",
        "x = img_to_array(img)  # this is a Numpy array with shape (3, 150, 150)\n",
        "x = x.reshape((1,) + x.shape)  # this is a Numpy array with shape (1, 3, 150, 150)\n",
        "\n",
        "# the .flow() command below generates batches of randomly transformed images\n",
        "# and saves the results to the `preview/` directory\n",
        "i = 0\n",
        "for batch in datagen.flow(x, batch_size=1,save_to_dir='/content/drive/My Drive/TFG software/', save_prefix='1', save_format='png'):\n",
        "    i += 1\n",
        "    if i > 20:\n",
        "        break  # otherwise the generator would loop indefinitely"
      ],
      "execution_count": 0,
      "outputs": []
    },
    {
      "metadata": {
        "id": "V9SCO5vqq78g",
        "colab_type": "text"
      },
      "cell_type": "markdown",
      "source": [
        "### **Crear conjuntos de datos de entrenamiento y test** \n"
      ]
    },
    {
      "metadata": {
        "id": "NGB199xDq8bn",
        "colab_type": "code",
        "outputId": "0f509413-9316-425b-f585-84fad5cc7373",
        "colab": {
          "base_uri": "https://localhost:8080/",
          "height": 68
        }
      },
      "cell_type": "code",
      "source": [
        "triples_data = create_triplet(number_images)\n",
        "\n",
        "print(\"# image triples:\", len(triples_data))\n",
        "\n",
        "tr_train = triples_data[0:15]\n",
        "tr_val = triples_data[15:20]  #El tamaño tiene que ser par (No se mucho por que)\n",
        "\n",
        "print(\"# image triples:\", len(tr_train))\n",
        "print(\"# image triples:\", len(tr_val))\n",
        "\n",
        "image_cache = {}\n",
        "\n",
        "tr_load_train = triples_batch(tr_train)\n",
        "tr_load_val = triples_batch(tr_val)"
      ],
      "execution_count": 0,
      "outputs": [
        {
          "output_type": "stream",
          "text": [
            "# image triples: 20\n",
            "# image triples: 15\n",
            "# image triples: 5\n"
          ],
          "name": "stdout"
        }
      ]
    },
    {
      "metadata": {
        "id": "5XMvIFWd7N45",
        "colab_type": "code",
        "outputId": "dd8b793a-4ac2-41fb-b67e-d0a7225eb113",
        "colab": {
          "base_uri": "https://localhost:8080/",
          "height": 85
        }
      },
      "cell_type": "code",
      "source": [
        "print(\"# image train triples:\", len(tr_train))\n",
        "[x for x in tr_train[0:5]]\n",
        "\n",
        "print(\"# image validation triples:\", len(tr_val))\n",
        "[x for x in tr_val[0:5]]\n",
        "\n",
        "print(tr_load_train.shape)\n",
        "\n",
        "print(tr_load_val.shape)"
      ],
      "execution_count": 0,
      "outputs": [
        {
          "output_type": "stream",
          "text": [
            "# image train triples: 15\n",
            "# image validation triples: 5\n",
            "(15, 3, 96, 96, 3)\n",
            "(5, 3, 96, 96, 3)\n"
          ],
          "name": "stdout"
        }
      ]
    },
    {
      "metadata": {
        "id": "ya7x2IZ4q8mN",
        "colab_type": "text"
      },
      "cell_type": "markdown",
      "source": [
        "### **Crear red siamesa** "
      ]
    },
    {
      "metadata": {
        "id": "Tk9pKrRhq8xL",
        "colab_type": "code",
        "colab": {}
      },
      "cell_type": "code",
      "source": [
        "# network definition\n",
        "base_network = create_base_network(input_dim, classes)\n",
        "#base_network.summary()\n",
        "from keras.layers import Layer\n",
        "\n",
        "anchor_a = Input(shape=(input_dim))   #Nos da un tensor del tamaño input_dim\n",
        "anchor_p = Input(shape=(input_dim))\n",
        "anchor_n = Input(shape=(input_dim))\n",
        "\n",
        "\n",
        "processed_a = base_network(anchor_a)\n",
        "processed_p = base_network(anchor_p)\n",
        "processed_n = base_network(anchor_n)\n",
        "\n",
        "#distance = Lambda(get_abs_diff, output_shape=abs_diff_output_shape)([processed_a, processed_p, processed_n])\n",
        "distance = Lambda(distance_vec, output_shape=abs_diff_output_shape)([processed_a, processed_p, processed_n])\n",
        "#distance = Lambda(lambda x: x[0]-x[1])([processed_a, processed_p, processed_n])\n",
        "\n",
        "#fc1 = Dense(512, kernel_initializer=\"glorot_uniform\")(distance)\n",
        "#fc1 = Dropout(0.2)(fc1)\n",
        "#fc1 = Activation(\"relu\")(fc1)\n",
        "\n",
        "#pred = Dense(3,kernel_initializer=\"glorot_uniform\")(distance)\n",
        "#pred = Activation(\"softmax\")(pred)\n",
        "#pred = keras.activations.softmax(distance, axis=-1)\n",
        "\n",
        "pred = Dense(1, activation = 'sigmoid')(distance)\n",
        "\n",
        "model = Model(inputs=[anchor_a, anchor_p, anchor_n], outputs=pred)\n"
      ],
      "execution_count": 0,
      "outputs": []
    },
    {
      "metadata": {
        "id": "dlSqy90sq89q",
        "colab_type": "text"
      },
      "cell_type": "markdown",
      "source": [
        "### **Entrenar modelo**\n"
      ]
    },
    {
      "metadata": {
        "id": "2nDUFYuEAB9u",
        "colab_type": "code",
        "outputId": "73a02934-8dbe-4c70-dd1a-683f2bbb1aff",
        "colab": {
          "base_uri": "https://localhost:8080/",
          "height": 119
        }
      },
      "cell_type": "code",
      "source": [
        "def reshape(data,dim):\n",
        "  data_a = data[:, 0].reshape(-1, dim[0], dim[1], dim[2])\n",
        "  data_p = data[:, 1].reshape(-1, dim[0], dim[1], dim[2])\n",
        "  data_n = data[:, 2].reshape(-1, dim[0], dim[1], dim[2])\n",
        "  return [data_a,data_p,data_n]\n",
        "\n",
        "#Datos de entrenamiento\n",
        "\n",
        "tr_load_train_ = reshape(tr_load_train,input_dim)\n",
        "tr_load_train_a = tr_load_train_[0]\n",
        "tr_load_train_p = tr_load_train_[1]\n",
        "tr_load_train_n = tr_load_train_[2]\n",
        "\n",
        "print(tr_load_train_a.shape)\n",
        "print(tr_load_train_p.shape)\n",
        "print(tr_load_train_n.shape)\n",
        "\n",
        "#Datos de validacion\n",
        "\n",
        "tr_load_val_ = reshape(tr_load_val,input_dim)\n",
        "tr_load_val_a = tr_load_val_[0]\n",
        "tr_load_val_p = tr_load_val_[1]\n",
        "tr_load_val_n = tr_load_val_[2]\n",
        "\n",
        "print(tr_load_val_a.shape)\n",
        "print(tr_load_val_p.shape)\n",
        "print(tr_load_val_n.shape)"
      ],
      "execution_count": 0,
      "outputs": [
        {
          "output_type": "stream",
          "text": [
            "(15, 96, 96, 3)\n",
            "(15, 96, 96, 3)\n",
            "(15, 96, 96, 3)\n",
            "(5, 96, 96, 3)\n",
            "(5, 96, 96, 3)\n",
            "(5, 96, 96, 3)\n"
          ],
          "name": "stdout"
        }
      ]
    },
    {
      "metadata": {
        "id": "str8zx0HBFXP",
        "colab_type": "code",
        "outputId": "19c69c6a-6498-4a81-914b-abc0f0fc7fd2",
        "colab": {
          "base_uri": "https://localhost:8080/",
          "height": 408
        }
      },
      "cell_type": "code",
      "source": [
        "INIT_LR = 1e-3\n",
        "EPOCHS = 100\n",
        "opt = Adam(lr=INIT_LR, decay=INIT_LR / EPOCHS)\n",
        "model.compile(loss=triple_loss, optimizer=opt, metrics=[\"accuracy\"])\n",
        "\n",
        "model.summary()"
      ],
      "execution_count": 0,
      "outputs": [
        {
          "output_type": "stream",
          "text": [
            "__________________________________________________________________________________________________\n",
            "Layer (type)                    Output Shape         Param #     Connected to                     \n",
            "==================================================================================================\n",
            "input_13 (InputLayer)           (None, 96, 96, 3)    0                                            \n",
            "__________________________________________________________________________________________________\n",
            "input_14 (InputLayer)           (None, 96, 96, 3)    0                                            \n",
            "__________________________________________________________________________________________________\n",
            "input_15 (InputLayer)           (None, 96, 96, 3)    0                                            \n",
            "__________________________________________________________________________________________________\n",
            "sequential_5 (Sequential)       (None, 1024)         8673152     input_13[0][0]                   \n",
            "                                                                 input_14[0][0]                   \n",
            "                                                                 input_15[0][0]                   \n",
            "__________________________________________________________________________________________________\n",
            "lambda_2 (Lambda)               (None, 1024)         0           sequential_5[1][0]               \n",
            "                                                                 sequential_5[2][0]               \n",
            "                                                                 sequential_5[3][0]               \n",
            "__________________________________________________________________________________________________\n",
            "dense_8 (Dense)                 (None, 1)            1025        lambda_2[0][0]                   \n",
            "==================================================================================================\n",
            "Total params: 8,674,177\n",
            "Trainable params: 8,671,297\n",
            "Non-trainable params: 2,880\n",
            "__________________________________________________________________________________________________\n"
          ],
          "name": "stdout"
        }
      ]
    },
    {
      "metadata": {
        "id": "gAikSlsZEBOI",
        "colab_type": "code",
        "outputId": "f32b4314-38a7-40bf-8869-09f26ee758ac",
        "colab": {
          "base_uri": "https://localhost:8080/",
          "height": 306
        }
      },
      "cell_type": "code",
      "source": [
        "train = np.ones(len(tr_load_train))\n",
        "val = np.ones(len(tr_load_val))\n",
        "a = model.fit([tr_load_train_a,tr_load_train_a,tr_load_train_a], train, batch_size=batch, epochs=nb_epoch, validation_data=([tr_load_val_a,tr_load_val_p,tr_load_val_n], val))"
      ],
      "execution_count": 0,
      "outputs": [
        {
          "output_type": "stream",
          "text": [
            "WARNING:tensorflow:From /usr/local/lib/python3.6/dist-packages/tensorflow/python/ops/math_ops.py:3066: to_int32 (from tensorflow.python.ops.math_ops) is deprecated and will be removed in a future version.\n",
            "Instructions for updating:\n",
            "Use tf.cast instead.\n",
            "WARNING:tensorflow:From /usr/local/lib/python3.6/dist-packages/tensorflow/python/ops/math_grad.py:163: setdiff1d (from tensorflow.python.ops.array_ops) is deprecated and will be removed after 2018-11-30.\n",
            "Instructions for updating:\n",
            "This op will be removed after the deprecation date. Please switch to tf.sets.difference().\n",
            "Train on 15 samples, validate on 5 samples\n",
            "Epoch 1/5\n",
            "15/15 [==============================] - 9s 633ms/step - loss: 1.0842 - acc: 0.4667 - val_loss: 0.1000 - val_acc: 0.4000\n",
            "Epoch 2/5\n",
            "15/15 [==============================] - 2s 140ms/step - loss: 0.0031 - acc: 0.8667 - val_loss: 0.0904 - val_acc: 0.0000e+00\n",
            "Epoch 3/5\n",
            "15/15 [==============================] - 2s 134ms/step - loss: 0.0946 - acc: 0.6000 - val_loss: 0.2847 - val_acc: 0.4000\n",
            "Epoch 4/5\n",
            "15/15 [==============================] - 2s 132ms/step - loss: 0.2714 - acc: 0.6000 - val_loss: 0.0000e+00 - val_acc: 0.8000\n",
            "Epoch 5/5\n",
            "15/15 [==============================] - 2s 134ms/step - loss: 0.1605 - acc: 0.7333 - val_loss: 0.0000e+00 - val_acc: 0.8000\n"
          ],
          "name": "stdout"
        }
      ]
    },
    {
      "metadata": {
        "id": "JLhDWbl_T36_",
        "colab_type": "code",
        "outputId": "8e8d8b84-39b3-43c8-c63d-93facfe17310",
        "colab": {
          "base_uri": "https://localhost:8080/",
          "height": 401
        }
      },
      "cell_type": "code",
      "source": [
        "plt.subplot(211)\n",
        "plt.title(\"Loss\")\n",
        "plt.plot(a.history[\"loss\"], color=\"r\", label=\"train\")\n",
        "plt.plot(a.history[\"val_loss\"], color=\"b\", label=\"validation\")\n",
        "plt.legend(loc=\"best\")\n",
        "\n",
        "plt.subplot(212)\n",
        "plt.title(\"Accuracy\")\n",
        "plt.plot(a.history[\"acc\"], color=\"r\", label=\"train\")\n",
        "plt.plot(a.history[\"val_acc\"], color=\"b\", label=\"validation\")\n",
        "plt.legend(loc=\"best\")\n",
        "\n",
        "plt.tight_layout()\n",
        "plt.show()"
      ],
      "execution_count": 0,
      "outputs": [
        {
          "output_type": "display_data",
          "data": {
            "image/png": "[encoded data removed]",
            "text/plain": [
              "<Figure size 576x396 with 2 Axes>"
            ]
          },
          "metadata": {
            "tags": []
          }
        }
      ]
    },
    {
      "metadata": {
        "id": "paZXfyDSr0VW",
        "colab_type": "text"
      },
      "cell_type": "markdown",
      "source": [
        "# **Test y prueba en funcionamiento**"
      ]
    },
    {
      "metadata": {
        "id": "JaGMjjXCr6W4",
        "colab_type": "text"
      },
      "cell_type": "markdown",
      "source": [
        "## **Test**"
      ]
    },
    {
      "metadata": {
        "id": "t07kR9viKzMe",
        "colab_type": "code",
        "colab": {}
      },
      "cell_type": "code",
      "source": [
        "def load_data(name):\n",
        "  image = cv2.imread('/content/drive/My Drive/TFG software/' + name + '.jpg')\n",
        "  image = cv2.resize(image, (96, 96))\n",
        "  image = img_to_array(image)\n",
        "  return image  \n",
        "\n",
        "def evaluate_data(name):\n",
        "  values = []\n",
        "  for i in range(1,classes+1):\n",
        "    images = []\n",
        "    if i == 1:\n",
        "      images.append((load_data(name),load_data('a'),load_data('a')))\n",
        "    else:\n",
        "      images.append((load_data(name),load_data('z'),load_data('z')))\n",
        "    data = np.array(images, dtype=\"float\") / 255.0\n",
        "    data = reshape(data,input_dim)\n",
        "    values.append(model.predict([data[0],data[1],data[2]]))\n",
        "  return values"
      ],
      "execution_count": 0,
      "outputs": []
    },
    {
      "metadata": {
        "id": "76juyf6xYvh9",
        "colab_type": "code",
        "colab": {}
      },
      "cell_type": "code",
      "source": [
        "values = []\n",
        "values.append(evaluate_data('1'))  \n",
        "values.append(evaluate_data('2'))  \n",
        "values.append(evaluate_data('3'))  \n",
        "values.append(evaluate_data('4'))  \n",
        "values.append(evaluate_data('5'))  \n",
        "values.append(evaluate_data('6'))  \n",
        "values.append(evaluate_data('7'))  \n",
        "values.append(evaluate_data('8'))  \n",
        "values.append(evaluate_data('9'))  \n",
        "values.append(evaluate_data('10')) \n"
      ],
      "execution_count": 0,
      "outputs": []
    },
    {
      "metadata": {
        "id": "-QfLaz4pgpKL",
        "colab_type": "code",
        "outputId": "726565b2-c54f-4b40-a02b-c2a8331eebfb",
        "colab": {
          "base_uri": "https://localhost:8080/",
          "height": 187
        }
      },
      "cell_type": "code",
      "source": [
        "for i in values:\n",
        "  var = 1000\n",
        "  index_var = 0\n",
        "  print(i)\n",
        "  for index,j in enumerate(i):\n",
        "    if j <= var:\n",
        "      var = j\n",
        "      index_var=index\n",
        "  #if index_var == 0:\n",
        "    #print('Es un perro')\n",
        "  #else:\n",
        "    #print('Es un gato')\n",
        "#print(index_var,var)"
      ],
      "execution_count": 0,
      "outputs": [
        {
          "output_type": "stream",
          "text": [
            "[array([[0.90051705]], dtype=float32), array([[0.7646512]], dtype=float32)]\n",
            "[array([[0.29737613]], dtype=float32), array([[0.1887825]], dtype=float32)]\n",
            "[array([[0.8020452]], dtype=float32), array([[0.629047]], dtype=float32)]\n",
            "[array([[0.47413656]], dtype=float32), array([[0.45062965]], dtype=float32)]\n",
            "[array([[0.6507756]], dtype=float32), array([[5.145962e-11]], dtype=float32)]\n",
            "[array([[0.84323645]], dtype=float32), array([[0.64831984]], dtype=float32)]\n",
            "[array([[0.97580475]], dtype=float32), array([[0.7569377]], dtype=float32)]\n",
            "[array([[0.8974747]], dtype=float32), array([[0.3618822]], dtype=float32)]\n",
            "[array([[0.83581287]], dtype=float32), array([[0.80615646]], dtype=float32)]\n",
            "[array([[0.68706775]], dtype=float32), array([[0.4095326]], dtype=float32)]\n"
          ],
          "name": "stdout"
        }
      ]
    }
  ]
}